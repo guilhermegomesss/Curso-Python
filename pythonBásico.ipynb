{
 "cells": [
  {
   "cell_type": "code",
   "execution_count": null,
   "id": "9867114b-1e5c-4eb0-a81f-2329b79207f3",
   "metadata": {},
   "outputs": [],
   "source": [
    "# Esse é um comentário ( Utilizamos # para comentar)"
   ]
  },
  {
   "cell_type": "markdown",
   "id": "bebd245c-e3a8-4891-a092-90362a9d254d",
   "metadata": {},
   "source": [
    "**Comandos para Imprimir na tela:**"
   ]
  },
  {
   "cell_type": "code",
   "execution_count": 15,
   "id": "2d7737c2-2272-41c9-91e9-dc2463ae1568",
   "metadata": {},
   "outputs": [
    {
     "name": "stdout",
     "output_type": "stream",
     "text": [
      "Hello World\n"
     ]
    }
   ],
   "source": [
    "print(\"Hello World\") #Print é usado para imprimir na tela "
   ]
  },
  {
   "cell_type": "code",
   "execution_count": 3,
   "id": "8935e5e7-0a60-41d4-ab50-1008103c4427",
   "metadata": {},
   "outputs": [
    {
     "data": {
      "text/plain": [
       "'Hello World'"
      ]
     },
     "execution_count": 3,
     "metadata": {},
     "output_type": "execute_result"
    }
   ],
   "source": [
    "'Hello World' # Ele imprimiu sem eu ter que utilizar o Print"
   ]
  },
  {
   "cell_type": "markdown",
   "id": "a4ca5267-6a1c-4807-b8bb-4596b3d0769d",
   "metadata": {},
   "source": [
    "**Operações Matemáticas simples:**"
   ]
  },
  {
   "cell_type": "code",
   "execution_count": 6,
   "id": "ea57ece9-1a8c-4918-bd18-d3f80225376f",
   "metadata": {},
   "outputs": [
    {
     "data": {
      "text/plain": [
       "12"
      ]
     },
     "execution_count": 6,
     "metadata": {},
     "output_type": "execute_result"
    }
   ],
   "source": [
    "2 + 10"
   ]
  },
  {
   "cell_type": "code",
   "execution_count": 7,
   "id": "6f611a03-a24a-46d6-baa8-2bb78c3aaafd",
   "metadata": {},
   "outputs": [
    {
     "data": {
      "text/plain": [
       "-8"
      ]
     },
     "execution_count": 7,
     "metadata": {},
     "output_type": "execute_result"
    }
   ],
   "source": [
    "2 - 10\n"
   ]
  },
  {
   "cell_type": "code",
   "execution_count": 8,
   "id": "25be6622-c3d2-4903-a536-457f27247eac",
   "metadata": {},
   "outputs": [
    {
     "data": {
      "text/plain": [
       "20"
      ]
     },
     "execution_count": 8,
     "metadata": {},
     "output_type": "execute_result"
    }
   ],
   "source": [
    "2 * 10"
   ]
  },
  {
   "cell_type": "code",
   "execution_count": 9,
   "id": "742305a1-03d3-46e1-b8ce-bc6b36a65395",
   "metadata": {},
   "outputs": [
    {
     "data": {
      "text/plain": [
       "0.2"
      ]
     },
     "execution_count": 9,
     "metadata": {},
     "output_type": "execute_result"
    }
   ],
   "source": [
    "2 / 10"
   ]
  },
  {
   "cell_type": "code",
   "execution_count": null,
   "id": "2a4eece8-aa10-4d4e-9def-9ed447ecf617",
   "metadata": {},
   "outputs": [],
   "source": [
    "# Numeros Float : "
   ]
  },
  {
   "cell_type": "code",
   "execution_count": 10,
   "id": "0c539f1e-0abe-41f7-bca4-dab6bb3a2f2b",
   "metadata": {},
   "outputs": [
    {
     "data": {
      "text/plain": [
       "8.7"
      ]
     },
     "execution_count": 10,
     "metadata": {},
     "output_type": "execute_result"
    }
   ],
   "source": [
    "3.2 + 5.5"
   ]
  },
  {
   "cell_type": "code",
   "execution_count": 11,
   "id": "7c90a624-08ac-47a8-bc23-03504289ab27",
   "metadata": {},
   "outputs": [
    {
     "data": {
      "text/plain": [
       "-2.3"
      ]
     },
     "execution_count": 11,
     "metadata": {},
     "output_type": "execute_result"
    }
   ],
   "source": [
    "3.2 - 5.5"
   ]
  },
  {
   "cell_type": "code",
   "execution_count": 12,
   "id": "ec5a54e7-1f74-4170-bbf0-16ee185f468f",
   "metadata": {},
   "outputs": [
    {
     "data": {
      "text/plain": [
       "17.6"
      ]
     },
     "execution_count": 12,
     "metadata": {},
     "output_type": "execute_result"
    }
   ],
   "source": [
    "3.2 * 5.5"
   ]
  },
  {
   "cell_type": "code",
   "execution_count": 13,
   "id": "1d53b169-68bb-49a7-9ff0-fb279682e525",
   "metadata": {},
   "outputs": [
    {
     "data": {
      "text/plain": [
       "0.5818181818181819"
      ]
     },
     "execution_count": 13,
     "metadata": {},
     "output_type": "execute_result"
    }
   ],
   "source": [
    "3.2 / 5.5"
   ]
  },
  {
   "cell_type": "markdown",
   "id": "992f454d-febe-4d4f-ad08-e819a838fa06",
   "metadata": {},
   "source": [
    "**Funções no Python**"
   ]
  },
  {
   "cell_type": "code",
   "execution_count": 16,
   "id": "e1d626ad-b7c2-492b-bb8f-e3728fe851cc",
   "metadata": {},
   "outputs": [
    {
     "data": {
      "text/plain": [
       "int"
      ]
     },
     "execution_count": 16,
     "metadata": {},
     "output_type": "execute_result"
    }
   ],
   "source": [
    "type(5) # É uma função que nos retorna o tipo da variável e me mostra o tipo"
   ]
  },
  {
   "cell_type": "code",
   "execution_count": 17,
   "id": "53231a11-6b74-49e8-bd6c-7e6238082335",
   "metadata": {},
   "outputs": [
    {
     "data": {
      "text/plain": [
       "float"
      ]
     },
     "execution_count": 17,
     "metadata": {},
     "output_type": "execute_result"
    }
   ],
   "source": [
    "type(5.5) "
   ]
  },
  {
   "cell_type": "code",
   "execution_count": 18,
   "id": "a5ec35de-5a9c-4930-a5ae-329bdcde07f2",
   "metadata": {},
   "outputs": [
    {
     "data": {
      "text/plain": [
       "str"
      ]
     },
     "execution_count": 18,
     "metadata": {},
     "output_type": "execute_result"
    }
   ],
   "source": [
    "type(\"oi\")"
   ]
  },
  {
   "cell_type": "markdown",
   "id": "b8feea50-bb24-4351-8add-840a3afe726a",
   "metadata": {},
   "source": [
    "**Funções de Conversão:** "
   ]
  },
  {
   "cell_type": "code",
   "execution_count": 20,
   "id": "535f0645-e35f-49be-8627-e0a1c64c8515",
   "metadata": {},
   "outputs": [
    {
     "data": {
      "text/plain": [
       "6"
      ]
     },
     "execution_count": 20,
     "metadata": {},
     "output_type": "execute_result"
    }
   ],
   "source": [
    "int(6) # No caso vamos converter esse valor para inteiro "
   ]
  },
  {
   "cell_type": "code",
   "execution_count": 21,
   "id": "db66671e-d5c7-4f0e-96d1-815bd8a14249",
   "metadata": {},
   "outputs": [
    {
     "data": {
      "text/plain": [
       "6.0"
      ]
     },
     "execution_count": 21,
     "metadata": {},
     "output_type": "execute_result"
    }
   ],
   "source": [
    "float(6)  # Vamos alterar o valor 6 de Int para Float"
   ]
  },
  {
   "cell_type": "code",
   "execution_count": 22,
   "id": "7c2cfd89-0203-4cf1-9f7b-6fe17e427f81",
   "metadata": {},
   "outputs": [
    {
     "data": {
      "text/plain": [
       "'5'"
      ]
     },
     "execution_count": 22,
     "metadata": {},
     "output_type": "execute_result"
    }
   ],
   "source": [
    "str(5) # Vamos alterar o valor para String"
   ]
  },
  {
   "cell_type": "markdown",
   "id": "aa28974d-9470-4e2e-8f0f-6526d33290c6",
   "metadata": {},
   "source": [
    "**Arredondamento de Valores:**"
   ]
  },
  {
   "cell_type": "code",
   "execution_count": 23,
   "id": "e503cb98-aacd-4a11-88cc-929f5398f0fa",
   "metadata": {},
   "outputs": [
    {
     "data": {
      "text/plain": [
       "3"
      ]
     },
     "execution_count": 23,
     "metadata": {},
     "output_type": "execute_result"
    }
   ],
   "source": [
    "round(2.98)"
   ]
  },
  {
   "cell_type": "code",
   "execution_count": 24,
   "id": "4deb1267-4b47-4404-94db-6da2b56e989a",
   "metadata": {},
   "outputs": [
    {
     "data": {
      "text/plain": [
       "2"
      ]
     },
     "execution_count": 24,
     "metadata": {},
     "output_type": "execute_result"
    }
   ],
   "source": [
    "round(2.425)"
   ]
  },
  {
   "cell_type": "markdown",
   "id": "fb144f97-cbbb-434c-8528-6ec7d8974ac0",
   "metadata": {},
   "source": [
    "**Trabalhando com Variáveis:**"
   ]
  },
  {
   "cell_type": "code",
   "execution_count": 32,
   "id": "8e94776d-2c62-4a10-92fb-45d25e7aec15",
   "metadata": {},
   "outputs": [
    {
     "name": "stdout",
     "output_type": "stream",
     "text": [
      "6\n"
     ]
    },
    {
     "data": {
      "text/plain": [
       "int"
      ]
     },
     "execution_count": 32,
     "metadata": {},
     "output_type": "execute_result"
    }
   ],
   "source": [
    "var1 = 1\n",
    "var2 = 2\n",
    "var3 = 3\n",
    "print(var1 + var2 + var3)\n",
    "type(var1)"
   ]
  },
  {
   "cell_type": "markdown",
   "id": "3e0b3e7c-3034-4648-81a9-df52a811a2c9",
   "metadata": {},
   "source": [
    "**Reatribuindo um valor a variável var1 graças a TIPAGEM DINAMICA:**"
   ]
  },
  {
   "cell_type": "code",
   "execution_count": 127,
   "id": "41d08044-8825-459c-9f84-120552dc8ef0",
   "metadata": {},
   "outputs": [
    {
     "data": {
      "text/plain": [
       "5.5"
      ]
     },
     "execution_count": 127,
     "metadata": {},
     "output_type": "execute_result"
    }
   ],
   "source": [
    "var1 = 5.5\n",
    "var1"
   ]
  },
  {
   "cell_type": "markdown",
   "id": "283d325e-2457-4108-99c7-f153da53302c",
   "metadata": {},
   "source": [
    "**Operações Matemáticas e Variáveis:**"
   ]
  },
  {
   "cell_type": "code",
   "execution_count": 128,
   "id": "5917e0c9-33cf-4d47-8033-7b5e1b98d5b8",
   "metadata": {},
   "outputs": [
    {
     "data": {
      "text/plain": [
       "20"
      ]
     },
     "execution_count": 128,
     "metadata": {},
     "output_type": "execute_result"
    }
   ],
   "source": [
    "resultado = var2 * 10\n",
    "resultado"
   ]
  },
  {
   "cell_type": "code",
   "execution_count": 129,
   "id": "4acd453e-878f-4ac8-9581-b534c36877b7",
   "metadata": {},
   "outputs": [
    {
     "data": {
      "text/plain": [
       "66.66666666666667"
      ]
     },
     "execution_count": 129,
     "metadata": {},
     "output_type": "execute_result"
    }
   ],
   "source": [
    "resultado = 200 / 3\n",
    "resultado"
   ]
  },
  {
   "cell_type": "markdown",
   "id": "7592bdcd-5293-4d50-b177-29d36681ab19",
   "metadata": {},
   "source": [
    "**Declarando vários valores a variáveis:**"
   ]
  },
  {
   "cell_type": "code",
   "execution_count": 46,
   "id": "fc0d6e6a-aee4-4d10-9bab-420164659bc2",
   "metadata": {},
   "outputs": [],
   "source": [
    "variavel1, variavel2 = 1, 'Teste'"
   ]
  },
  {
   "cell_type": "code",
   "execution_count": 47,
   "id": "800cc3a8-185b-46e3-97cf-3274332a8205",
   "metadata": {},
   "outputs": [
    {
     "data": {
      "text/plain": [
       "1"
      ]
     },
     "execution_count": 47,
     "metadata": {},
     "output_type": "execute_result"
    }
   ],
   "source": [
    "variavel1"
   ]
  },
  {
   "cell_type": "code",
   "execution_count": 48,
   "id": "ad16dbc6-3a33-4bce-802b-2d55bc15cf38",
   "metadata": {},
   "outputs": [
    {
     "data": {
      "text/plain": [
       "'Teste'"
      ]
     },
     "execution_count": 48,
     "metadata": {},
     "output_type": "execute_result"
    }
   ],
   "source": [
    "variavel2"
   ]
  },
  {
   "cell_type": "markdown",
   "id": "e4a8e4db-5006-48ea-9f45-a48916663a81",
   "metadata": {},
   "source": [
    "**Restrições para a criação de variáveis:**"
   ]
  },
  {
   "cell_type": "code",
   "execution_count": 54,
   "id": "4f69066c-099d-40c5-84ca-383813808094",
   "metadata": {},
   "outputs": [],
   "source": [
    "variavel_teste = 2 # Podemos usar _ Para a criação de variáveis"
   ]
  },
  {
   "cell_type": "code",
   "execution_count": 53,
   "id": "1532be8e-7e87-4375-b40d-dccd5203472c",
   "metadata": {},
   "outputs": [
    {
     "data": {
      "text/plain": [
       "2"
      ]
     },
     "execution_count": 53,
     "metadata": {},
     "output_type": "execute_result"
    }
   ],
   "source": [
    "variavel_teste"
   ]
  },
  {
   "cell_type": "code",
   "execution_count": null,
   "id": "9270e26b-b8a2-4e24-a75a-b82d9c645966",
   "metadata": {},
   "outputs": [],
   "source": [
    "#Não podemos utilizar numeros antes da criação do nome da variavel \n",
    "#exemplo ;2var : Iria imprimir na tela SintaxError"
   ]
  },
  {
   "cell_type": "code",
   "execution_count": null,
   "id": "c701f299-ea57-4168-b713-0b8539363f47",
   "metadata": {},
   "outputs": [],
   "source": [
    "#Não pode usar palavras reservadas para criar nomes de variáveis como for, break, if, else e etc..."
   ]
  },
  {
   "cell_type": "markdown",
   "id": "f3490223-124b-4e92-88bd-879431b7f629",
   "metadata": {},
   "source": [
    "**Trabalhando com Strings**"
   ]
  },
  {
   "cell_type": "code",
   "execution_count": null,
   "id": "146beac5-ef8b-4dbf-93b0-e799d069900a",
   "metadata": {},
   "outputs": [],
   "source": [
    "#Strings são uma sequência de caracteres que utilizamos para armazenar informações em formato  de textos..."
   ]
  },
  {
   "cell_type": "code",
   "execution_count": 68,
   "id": "3ff34904-1a9c-483d-b0d0-cf01be322bfb",
   "metadata": {},
   "outputs": [],
   "source": [
    "frase = \"Python is the best language in the world\"\n"
   ]
  },
  {
   "cell_type": "code",
   "execution_count": 81,
   "id": "2ef5723d-9f8e-4422-9668-fac04a693668",
   "metadata": {},
   "outputs": [
    {
     "data": {
      "text/plain": [
       "'P'"
      ]
     },
     "execution_count": 81,
     "metadata": {},
     "output_type": "execute_result"
    }
   ],
   "source": [
    "frase[0] # O índice 0 é o primeiro caracter da string o índice 1 é o segundo  e assim por diante.. "
   ]
  },
  {
   "cell_type": "code",
   "execution_count": 83,
   "id": "0e2a2074-dbbc-4249-b93c-51e3aa8a1f07",
   "metadata": {},
   "outputs": [],
   "source": [
    "# O Python não permite que agente faça a substituição de um caracter"
   ]
  },
  {
   "cell_type": "code",
   "execution_count": null,
   "id": "f33c479a-104e-47ad-b8e6-44ade1c53cf0",
   "metadata": {},
   "outputs": [],
   "source": [
    "# Slicing : Percorrendo Strings "
   ]
  },
  {
   "cell_type": "code",
   "execution_count": 84,
   "id": "4eb1ff38-17f5-473b-8d9a-15a1b5c2a284",
   "metadata": {},
   "outputs": [
    {
     "data": {
      "text/plain": [
       "'Python'"
      ]
     },
     "execution_count": 84,
     "metadata": {},
     "output_type": "execute_result"
    }
   ],
   "source": [
    "frase[0:6] \n",
    "# Ele começou no índice 0 e percorreu até o índice 6 . Obs : ele imprime até o 6 mais não imprimi o caratcter 6"
   ]
  },
  {
   "cell_type": "code",
   "execution_count": 89,
   "id": "cd7b80cd-6081-43b6-bf0b-8a888e60c864",
   "metadata": {},
   "outputs": [
    {
     "data": {
      "text/plain": [
       "'Python'"
      ]
     },
     "execution_count": 89,
     "metadata": {},
     "output_type": "execute_result"
    }
   ],
   "source": [
    "frase[:6] # Pega tudo que vem antes do índice determinado "
   ]
  },
  {
   "cell_type": "code",
   "execution_count": 90,
   "id": "d628b5e8-7faa-439a-bf2b-905f97ecf716",
   "metadata": {},
   "outputs": [
    {
     "data": {
      "text/plain": [
       "' is the best language of the world'"
      ]
     },
     "execution_count": 90,
     "metadata": {},
     "output_type": "execute_result"
    }
   ],
   "source": [
    "frase[6:] # Pega tudo que vem depois do índice determinado \n"
   ]
  },
  {
   "cell_type": "markdown",
   "id": "e42550b8-14bd-44be-a760-56965f8d0777",
   "metadata": {},
   "source": [
    "**Concatenando Strings**"
   ]
  },
  {
   "cell_type": "code",
   "execution_count": null,
   "id": "dba3a676-ca4f-49c1-9615-44cdbcc9fa86",
   "metadata": {},
   "outputs": [],
   "source": [
    "# Concatenar Strings nada mais é do que unir 2 ou mais Strings"
   ]
  },
  {
   "cell_type": "code",
   "execution_count": 93,
   "id": "9b13bc4e-2c39-415c-a24d-9d37949ded45",
   "metadata": {},
   "outputs": [],
   "source": [
    "frase1 = \"Python is an excelent language\""
   ]
  },
  {
   "cell_type": "code",
   "execution_count": 95,
   "id": "3dd73800-3612-42d4-a5f0-78698b13be25",
   "metadata": {},
   "outputs": [],
   "source": [
    "frase2 = \"For DataScience\""
   ]
  },
  {
   "cell_type": "code",
   "execution_count": 96,
   "id": "8ed30d60-cfd9-4176-bec5-02fca5f9f4f6",
   "metadata": {},
   "outputs": [
    {
     "data": {
      "text/plain": [
       "'Python is an excelent languageFor DataScience'"
      ]
     },
     "execution_count": 96,
     "metadata": {},
     "output_type": "execute_result"
    }
   ],
   "source": [
    "frase1 + frase2 # Concatenei 2 váriaveis"
   ]
  },
  {
   "cell_type": "code",
   "execution_count": 104,
   "id": "ac5b9f28-d8db-45f3-a967-e29367dd9766",
   "metadata": {},
   "outputs": [
    {
     "data": {
      "text/plain": [
       "40"
      ]
     },
     "execution_count": 104,
     "metadata": {},
     "output_type": "execute_result"
    }
   ],
   "source": [
    "resultado1 = 10 \n",
    "resultado2 = 30\n",
    "resultado1 + resultado2"
   ]
  },
  {
   "cell_type": "markdown",
   "id": "dda41009-0625-4b2f-87b3-c688f1ff60f4",
   "metadata": {},
   "source": [
    "**Objeto String - Métodos**"
   ]
  },
  {
   "cell_type": "code",
   "execution_count": 117,
   "id": "bcb29824-f4e8-462d-9166-da096d9834cf",
   "metadata": {},
   "outputs": [
    {
     "data": {
      "text/plain": [
       "1"
      ]
     },
     "execution_count": 117,
     "metadata": {},
     "output_type": "execute_result"
    }
   ],
   "source": [
    "frase = 'minerando dados, a maior comunidade de Data Science do Brasil'\n",
    "frase.count('dados') \n",
    "# O count é usado para mostrar quantas vezes determinada palavra aparece na frase.."
   ]
  },
  {
   "cell_type": "code",
   "execution_count": 110,
   "id": "b136a776-89d3-4390-a70f-8e9036be218a",
   "metadata": {},
   "outputs": [
    {
     "data": {
      "text/plain": [
       "' minerando dados, a maior comunidade de data science do brasil'"
      ]
     },
     "execution_count": 110,
     "metadata": {},
     "output_type": "execute_result"
    }
   ],
   "source": [
    "frase.lower()\n",
    "# O lower é utilizado para passar a frase toda para minúscula"
   ]
  },
  {
   "cell_type": "code",
   "execution_count": 111,
   "id": "2a78e7da-bec8-41be-a629-178403afded1",
   "metadata": {},
   "outputs": [
    {
     "data": {
      "text/plain": [
       "' MINERANDO DADOS, A MAIOR COMUNIDADE DE DATA SCIENCE DO BRASIL'"
      ]
     },
     "execution_count": 111,
     "metadata": {},
     "output_type": "execute_result"
    }
   ],
   "source": [
    "frase.upper()\n",
    "# O upper é utilizado para passar a frase toda para maiúscula"
   ]
  },
  {
   "cell_type": "code",
   "execution_count": 118,
   "id": "f2b928ba-e578-4217-8bd1-62a76fb43f73",
   "metadata": {},
   "outputs": [
    {
     "data": {
      "text/plain": [
       "'Minerando dados, a maior comunidade de data science do brasil'"
      ]
     },
     "execution_count": 118,
     "metadata": {},
     "output_type": "execute_result"
    }
   ],
   "source": [
    "frase.capitalize()\n",
    "#capitalize : Colocar a primeira palavra da primeira frase em maiúsculo"
   ]
  },
  {
   "cell_type": "code",
   "execution_count": 122,
   "id": "c056b73e-4fb1-4f9e-9d86-71bf65ad6b41",
   "metadata": {},
   "outputs": [
    {
     "data": {
      "text/plain": [
       "False"
      ]
     },
     "execution_count": 122,
     "metadata": {},
     "output_type": "execute_result"
    }
   ],
   "source": [
    "frase.islower()\n",
    "# islower : Retorna se a frase está totalmente minúscula retorna \"true\" \n",
    "#e se está totalmente maiúscula retorna \"false\""
   ]
  },
  {
   "cell_type": "code",
   "execution_count": 125,
   "id": "524a98c1-9a56-4cca-84c8-214a7ce1a5c7",
   "metadata": {},
   "outputs": [
    {
     "data": {
      "text/plain": [
       "['minerando',\n",
       " 'dados,',\n",
       " 'a',\n",
       " 'maior',\n",
       " 'comunidade',\n",
       " 'de',\n",
       " 'Data',\n",
       " 'Science',\n",
       " 'do',\n",
       " 'Brasil']"
      ]
     },
     "execution_count": 125,
     "metadata": {},
     "output_type": "execute_result"
    }
   ],
   "source": [
    "frase.split()\n",
    "# split : Permite agente quebrar a String e retornar uma lista de termos.."
   ]
  },
  {
   "cell_type": "code",
   "execution_count": 126,
   "id": "ab56c2cd-1bbf-49dc-be0a-081ffaee9054",
   "metadata": {},
   "outputs": [
    {
     "data": {
      "text/plain": [
       "['minerando dados, a maior comunida', ' ', ' Data Science do Brasil']"
      ]
     },
     "execution_count": 126,
     "metadata": {},
     "output_type": "execute_result"
    }
   ],
   "source": [
    "frase.split(\"de\")\n",
    "# O método split(\"de\") divide a string toda vez que encontrar a palavra \"de\".."
   ]
  },
  {
   "cell_type": "markdown",
   "id": "d79f5ff4-ce39-45cc-93a4-bf4dcd05ddea",
   "metadata": {},
   "source": [
    "**Trabalhando com Listas:**"
   ]
  },
  {
   "cell_type": "code",
   "execution_count": 131,
   "id": "135f94c0-d913-4a77-bd96-b1dcf4c2e58a",
   "metadata": {},
   "outputs": [
    {
     "data": {
      "text/plain": [
       "[1, 2, 3]"
      ]
     },
     "execution_count": 131,
     "metadata": {},
     "output_type": "execute_result"
    }
   ],
   "source": [
    "bixos = [1,2,3]\n",
    "bixos"
   ]
  },
  {
   "cell_type": "code",
   "execution_count": 160,
   "id": "28599469-30ab-47b8-b509-025742768158",
   "metadata": {},
   "outputs": [
    {
     "data": {
      "text/plain": [
       "['oi', 1.5, 1, 5]"
      ]
     },
     "execution_count": 160,
     "metadata": {},
     "output_type": "execute_result"
    }
   ],
   "source": [
    "#Listas com tipos de dados diferentes : \n",
    "bixos = [\"oi\",1.5,1,5]\n",
    "bixos"
   ]
  },
  {
   "cell_type": "code",
   "execution_count": null,
   "id": "00e55d6c-24be-4ff3-a893-a557c27c4ba0",
   "metadata": {},
   "outputs": [],
   "source": [
    "# Índices de elementos :"
   ]
  },
  {
   "cell_type": "code",
   "execution_count": 139,
   "id": "48b17a68-ba61-49ab-801e-0c19dd597479",
   "metadata": {},
   "outputs": [
    {
     "data": {
      "text/plain": [
       "'oi'"
      ]
     },
     "execution_count": 139,
     "metadata": {},
     "output_type": "execute_result"
    }
   ],
   "source": [
    "bixos[0]"
   ]
  },
  {
   "cell_type": "code",
   "execution_count": 140,
   "id": "fdcb4b7a-17ff-430a-849b-a2749f36b643",
   "metadata": {},
   "outputs": [
    {
     "data": {
      "text/plain": [
       "1"
      ]
     },
     "execution_count": 140,
     "metadata": {},
     "output_type": "execute_result"
    }
   ],
   "source": [
    "bixos[2]"
   ]
  },
  {
   "cell_type": "code",
   "execution_count": null,
   "id": "693cff7f-3ea9-4c9e-a953-6b93a0372c7b",
   "metadata": {},
   "outputs": [],
   "source": [
    "# Atualizando o valor de uma lista :"
   ]
  },
  {
   "cell_type": "code",
   "execution_count": 151,
   "id": "a8841107-6d80-4b89-9460-404860a3d31f",
   "metadata": {},
   "outputs": [
    {
     "data": {
      "text/plain": [
       "['Horse', 1.5, 1, 5]"
      ]
     },
     "execution_count": 151,
     "metadata": {},
     "output_type": "execute_result"
    }
   ],
   "source": [
    "bixos[0] = \"Horse\"\n",
    "bixos"
   ]
  },
  {
   "cell_type": "code",
   "execution_count": null,
   "id": "af03b12f-4c73-48f2-9c0a-d181978223a5",
   "metadata": {},
   "outputs": [],
   "source": [
    "# Slicing em listas :"
   ]
  },
  {
   "cell_type": "code",
   "execution_count": 144,
   "id": "8cce7732-0d29-4a86-b27a-69c7ddda28c8",
   "metadata": {},
   "outputs": [
    {
     "data": {
      "text/plain": [
       "['Horse', 1.5, 1, 5]"
      ]
     },
     "execution_count": 144,
     "metadata": {},
     "output_type": "execute_result"
    }
   ],
   "source": [
    "bixos[0:]"
   ]
  },
  {
   "cell_type": "code",
   "execution_count": 145,
   "id": "d1d9f5e2-c448-4eee-b62e-6392ab7ab9dd",
   "metadata": {},
   "outputs": [
    {
     "data": {
      "text/plain": [
       "['Horse', 1.5]"
      ]
     },
     "execution_count": 145,
     "metadata": {},
     "output_type": "execute_result"
    }
   ],
   "source": [
    "bixos[:2]"
   ]
  },
  {
   "cell_type": "code",
   "execution_count": null,
   "id": "2cfc51a6-0ea2-4f75-b3fd-3c9891eedbd5",
   "metadata": {},
   "outputs": [],
   "source": [
    "# Removendo elementos :"
   ]
  },
  {
   "cell_type": "code",
   "execution_count": 179,
   "id": "dae457e2-678b-4d73-9372-1a896bcdfa5e",
   "metadata": {},
   "outputs": [
    {
     "data": {
      "text/plain": [
       "['gato', 222, 224]"
      ]
     },
     "execution_count": 179,
     "metadata": {},
     "output_type": "execute_result"
    }
   ],
   "source": [
    "bixos2 = [\"gato\",1,222,224]\n",
    "bixos2.remove(1)\n",
    "bixos2"
   ]
  },
  {
   "cell_type": "code",
   "execution_count": null,
   "id": "716ed3a4-4a7c-4400-998d-7f2e0d1844dd",
   "metadata": {},
   "outputs": [],
   "source": [
    "# Operações com  Listas :"
   ]
  },
  {
   "cell_type": "code",
   "execution_count": 180,
   "id": "43f55961-24b0-4332-a0d0-2baaf39b1aff",
   "metadata": {},
   "outputs": [
    {
     "data": {
      "text/plain": [
       "3"
      ]
     },
     "execution_count": 180,
     "metadata": {},
     "output_type": "execute_result"
    }
   ],
   "source": [
    "len(bixos2) \n",
    "# len : É usado para informar quantos elementos nós temos em uma lista.."
   ]
  },
  {
   "cell_type": "code",
   "execution_count": null,
   "id": "383a488b-4742-48e5-bfec-cdae4cf7d932",
   "metadata": {},
   "outputs": [],
   "source": [
    "# Concatenaçõo de listas \n",
    "# Podemos usar o operador + para concatenar duas listas"
   ]
  },
  {
   "cell_type": "code",
   "execution_count": 188,
   "id": "62bd9f49-004c-4122-aee0-fe59cc728893",
   "metadata": {},
   "outputs": [
    {
     "data": {
      "text/plain": [
       "['gato', 'cachorro', 222, 225, 554, 556, 557, 558]"
      ]
     },
     "execution_count": 188,
     "metadata": {},
     "output_type": "execute_result"
    }
   ],
   "source": [
    "concatenar1 = [\"gato\",\"cachorro\",222,225]\n",
    "concatenar2 = [554,556,557,558]\n",
    "concatenar1 + concatenar2"
   ]
  },
  {
   "cell_type": "code",
   "execution_count": null,
   "id": "0e910e88-e151-4684-9c21-4dc2ce3556fe",
   "metadata": {},
   "outputs": [],
   "source": [
    "# Check elementos :\n",
    "# O operador \"in\" faz uma checagem para saber se um elemento existe em uma lista..."
   ]
  },
  {
   "cell_type": "code",
   "execution_count": 190,
   "id": "30e26524-22a7-4e2e-9056-b10c276a638b",
   "metadata": {},
   "outputs": [
    {
     "data": {
      "text/plain": [
       "True"
      ]
     },
     "execution_count": 190,
     "metadata": {},
     "output_type": "execute_result"
    }
   ],
   "source": [
    "222 in concatenar1"
   ]
  },
  {
   "cell_type": "code",
   "execution_count": 192,
   "id": "0fb1a010-3944-4329-bfe7-acfa3e60f0d8",
   "metadata": {},
   "outputs": [
    {
     "data": {
      "text/plain": [
       "False"
      ]
     },
     "execution_count": 192,
     "metadata": {},
     "output_type": "execute_result"
    }
   ],
   "source": [
    "\"dado\" in concatenar1"
   ]
  },
  {
   "cell_type": "code",
   "execution_count": null,
   "id": "46f4ed35-1805-49e2-860b-0fc7279630de",
   "metadata": {},
   "outputs": [],
   "source": [
    "# Valor máximo de uma lista\n",
    "# Obs : O max vai identificar o valor maior de uma lista, mas se você tiver string em uma lista vai dar erro..."
   ]
  },
  {
   "cell_type": "code",
   "execution_count": 194,
   "id": "c3cf7130-ac9c-464f-beaa-ec268a192b43",
   "metadata": {},
   "outputs": [
    {
     "data": {
      "text/plain": [
       "50000"
      ]
     },
     "execution_count": 194,
     "metadata": {},
     "output_type": "execute_result"
    }
   ],
   "source": [
    "usandomax = [554,556,999,666,6665,77,50000]\n",
    "max(usandomax)"
   ]
  },
  {
   "cell_type": "code",
   "execution_count": null,
   "id": "95b5573e-d757-4641-ad17-f4581b82e712",
   "metadata": {},
   "outputs": [],
   "source": [
    "# Valor mínimo de uma lista\n",
    "# Obs : O min vai identificar o valor menor de uma lista, mas se você tiver string em uma lista vai dar erro..."
   ]
  },
  {
   "cell_type": "code",
   "execution_count": 195,
   "id": "347bf49f-8fc8-41ec-8037-316b75f8100c",
   "metadata": {},
   "outputs": [
    {
     "data": {
      "text/plain": [
       "77"
      ]
     },
     "execution_count": 195,
     "metadata": {},
     "output_type": "execute_result"
    }
   ],
   "source": [
    "min(usandomax)"
   ]
  },
  {
   "cell_type": "code",
   "execution_count": null,
   "id": "c0251969-d08c-4024-abf5-aa3705ced200",
   "metadata": {},
   "outputs": [],
   "source": [
    "# Multiplicação de elementos :\n",
    "# Usado para multiplicar uma string ou número quantas vezes você quiser..."
   ]
  },
  {
   "cell_type": "code",
   "execution_count": 197,
   "id": "3d88c17d-6a30-42d1-9036-3659e1e6f56d",
   "metadata": {},
   "outputs": [
    {
     "data": {
      "text/plain": [
       "['olá', 'olá', 'olá', 'olá', 'olá', 'olá']"
      ]
     },
     "execution_count": 197,
     "metadata": {},
     "output_type": "execute_result"
    }
   ],
   "source": [
    "[\"olá\"] * 6"
   ]
  },
  {
   "cell_type": "code",
   "execution_count": 198,
   "id": "ff8fb9ef-bc48-434d-9384-4ebf1e8e3fef",
   "metadata": {},
   "outputs": [
    {
     "data": {
      "text/plain": [
       "[5, 5, 5, 5, 5]"
      ]
     },
     "execution_count": 198,
     "metadata": {},
     "output_type": "execute_result"
    }
   ],
   "source": [
    "[5] * 5"
   ]
  }
 ],
 "metadata": {
  "kernelspec": {
   "display_name": "Python [conda env:base] *",
   "language": "python",
   "name": "conda-base-py"
  },
  "language_info": {
   "codemirror_mode": {
    "name": "ipython",
    "version": 3
   },
   "file_extension": ".py",
   "mimetype": "text/x-python",
   "name": "python",
   "nbconvert_exporter": "python",
   "pygments_lexer": "ipython3",
   "version": "3.12.7"
  }
 },
 "nbformat": 4,
 "nbformat_minor": 5
}
