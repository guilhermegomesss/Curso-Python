{
  "nbformat": 4,
  "nbformat_minor": 0,
  "metadata": {
    "colab": {
      "provenance": [],
      "authorship_tag": "ABX9TyOQ/+2VZAYaxgzvJpWHaY5d",
      "include_colab_link": true
    },
    "kernelspec": {
      "name": "python3",
      "display_name": "Python 3"
    },
    "language_info": {
      "name": "python"
    }
  },
  "cells": [
    {
      "cell_type": "markdown",
      "metadata": {
        "id": "view-in-github",
        "colab_type": "text"
      },
      "source": [
        "<a href=\"https://colab.research.google.com/github/guilhermegomesss/Curso-Python/blob/main/fluxocondicional_e_repeticao.ipynb\" target=\"_parent\"><img src=\"https://colab.research.google.com/assets/colab-badge.svg\" alt=\"Open In Colab\"/></a>"
      ]
    },
    {
      "cell_type": "markdown",
      "source": [
        "***If/Elif/Else***\n",
        "# Os operadores condicionais if/else/elif, vão permitir que agente tome decisões sobre qual bloco de código executar"
      ],
      "metadata": {
        "id": "h9S29X_4cegu"
      }
    },
    {
      "cell_type": "code",
      "execution_count": 9,
      "metadata": {
        "colab": {
          "base_uri": "https://localhost:8080/"
        },
        "id": "1sOWTtaRcYd5",
        "outputId": "de0cc74f-3958-4285-d22c-a705bd562440"
      },
      "outputs": [
        {
          "output_type": "stream",
          "name": "stdout",
          "text": [
            "Digite sua idade :60\n",
            "Você é idoso\n"
          ]
        }
      ],
      "source": [
        "# Calculo de idade com python :\n",
        "\n",
        "\n",
        "idade = int(input(\"Digite sua idade :\"))\n",
        "\n",
        "if idade >= 0 and idade  <= 12:\n",
        "  print(\"Você criança\")\n",
        "\n",
        "elif idade >= 13 and idade <= 17 :\n",
        "  print(\"Você Adolescente\")\n",
        "\n",
        "elif idade >= 18 and idade <= 25 :\n",
        "  print(\"Você é adulto jovem\")\n",
        "\n",
        "elif idade >= 26 and idade <= 59 :\n",
        "  print(\"Você é adulto\")\n",
        "\n",
        "else :\n",
        "  print(\"Você é idoso\")\n"
      ]
    },
    {
      "cell_type": "markdown",
      "source": [
        "**Try/Catch/Finally**\n",
        "# São usados para tratar erro ..."
      ],
      "metadata": {
        "id": "ClyxHq0gfNvQ"
      }
    },
    {
      "cell_type": "code",
      "source": [
        "preco = 10\n",
        "pessoas = 0\n",
        "\n",
        "try :\n",
        "  valor_pessoas = preco/pessoas\n",
        "\n",
        "except ZeroDivisionError:\n",
        "    print(\"O erro foi : ZeroDivisionError\")\n",
        "\n",
        "finally :\n",
        "  print(\"Obrigado por executar o código \")"
      ],
      "metadata": {
        "colab": {
          "base_uri": "https://localhost:8080/"
        },
        "id": "jMJz8HJ_e5TP",
        "outputId": "a531f79c-bbe4-4eed-d40d-c8fd6c137988"
      },
      "execution_count": 19,
      "outputs": [
        {
          "output_type": "stream",
          "name": "stdout",
          "text": [
            "O erro foi : ZeroDivisionError\n",
            "Obrigado por executar o código \n"
          ]
        }
      ]
    },
    {
      "cell_type": "code",
      "source": [
        "try:\n",
        "  valor_pessoas = preco/pessoas\n",
        "\n",
        "except Exception :  # Exception : ao invés de você escrever o erro o exception automaticamente identifica\n",
        "  print(\"Lista de pessoas inválidas\")\n",
        "\n",
        "finally :\n",
        "  print(\"Obrigado por rodar o código\") # Sempre vai ser executado"
      ],
      "metadata": {
        "colab": {
          "base_uri": "https://localhost:8080/"
        },
        "id": "3jYNGaKHfcJN",
        "outputId": "958e4e07-a5dd-4497-cb33-75ad70441825"
      },
      "execution_count": 17,
      "outputs": [
        {
          "output_type": "stream",
          "name": "stdout",
          "text": [
            "Lista de pessoas inválidas\n",
            "Obrigado por rodar o código\n"
          ]
        }
      ]
    },
    {
      "cell_type": "code",
      "source": [
        "try:\n",
        "  valor_pessoas = preco/pessoas\n",
        "\n",
        "except Exception as exc :  # Exception : ao invés de você escrever o erro o exception automaticamente identifica\n",
        "  print(\"Descrição da excessão : \" + str(exc))\n",
        "  print(type(exc))\n",
        "\n",
        "finally :\n",
        "  print(\"Obrigado por rodar o código\") # Sempre vai ser executado"
      ],
      "metadata": {
        "colab": {
          "base_uri": "https://localhost:8080/"
        },
        "id": "I7JS7i8vhDCl",
        "outputId": "a09d7eb3-4505-46bb-c835-fa16254ba1a9"
      },
      "execution_count": 20,
      "outputs": [
        {
          "output_type": "stream",
          "name": "stdout",
          "text": [
            "Descrição da excessão : division by zero\n",
            "<class 'ZeroDivisionError'>\n",
            "Obrigado por rodar o código\n"
          ]
        }
      ]
    },
    {
      "cell_type": "markdown",
      "source": [
        "**Estrutura de repetição : For/ In/ range**"
      ],
      "metadata": {
        "id": "Y_o426zphaiN"
      }
    },
    {
      "cell_type": "code",
      "source": [
        "# Avançando de 2 em 2 :\n",
        "\n",
        "for idade in range(0,10,2) :\n",
        "  print(idade)"
      ],
      "metadata": {
        "colab": {
          "base_uri": "https://localhost:8080/"
        },
        "id": "9nWpozDWhhNU",
        "outputId": "ca967f05-2ad0-44e2-89cb-1a27a02d8a53"
      },
      "execution_count": 23,
      "outputs": [
        {
          "output_type": "stream",
          "name": "stdout",
          "text": [
            "0\n",
            "2\n",
            "4\n",
            "6\n",
            "8\n"
          ]
        }
      ]
    },
    {
      "cell_type": "code",
      "source": [
        "# For e If :\n",
        "\n",
        "texto = \"Oi\"\n",
        "\n",
        "for caracter in texto :\n",
        "  if(caracter == \"O\") | (caracter == \"i\"):\n",
        "    print(\"Achei a letra \" + caracter)"
      ],
      "metadata": {
        "id": "au8ENfkCiafW"
      },
      "execution_count": null,
      "outputs": []
    }
  ]
}