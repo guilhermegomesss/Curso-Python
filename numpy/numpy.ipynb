{
 "cells": [
  {
   "cell_type": "markdown",
   "id": "dea4bf09-40b1-4dd2-a03f-e9227acf733d",
   "metadata": {},
   "source": [
    "**Numpy:**"
   ]
  },
  {
   "cell_type": "code",
   "execution_count": 1,
   "id": "e894ab61-b538-4da6-bc66-0b23b7c07734",
   "metadata": {},
   "outputs": [
    {
     "name": "stdout",
     "output_type": "stream",
     "text": [
      "[1 2 3 4 5 6]\n",
      "<class 'numpy.ndarray'>\n"
     ]
    }
   ],
   "source": [
    "# Importanto o numpy :\n",
    "\n",
    "import numpy as np\n",
    "\n",
    "# Criar uma matriz unidimensional:\n",
    "\n",
    "matriz = np.array([1,2,3,4,5,6])\n",
    "\n",
    "print(matriz)\n",
    "\n",
    "print(type(matriz))\n"
   ]
  },
  {
   "cell_type": "code",
   "execution_count": 11,
   "id": "4eb16c1f-d6bc-498e-8852-1cf438169704",
   "metadata": {},
   "outputs": [
    {
     "name": "stdout",
     "output_type": "stream",
     "text": [
      "[1. 2. 3.]\n",
      "<class 'numpy.ndarray'>\n",
      "[4 5 6 7 8]\n",
      "<class 'numpy.ndarray'>\n"
     ]
    }
   ],
   "source": [
    "# Criar um array como um tipo específico:\n",
    "\n",
    "# Criar um matriz com o tipo Float:\n",
    "\n",
    "mtFloat = np.array([1,2,3], dtype = np.float64)\n",
    "\n",
    "print(mtFloat)\n",
    "\n",
    "print(type(mtFloat))\n",
    "\n",
    "# Criar uma matriz com o tipo Inteiro:\n",
    "\n",
    "mtInteiro = np.array([4,5,6,7,8], dtype = np.int32)\n",
    "\n",
    "print(mtInteiro)\n",
    "\n",
    "print(type(mtInteiro))\n"
   ]
  },
  {
   "cell_type": "code",
   "execution_count": 14,
   "id": "ac80d33e-92c2-4ed7-ae1c-5a99de9a910f",
   "metadata": {},
   "outputs": [
    {
     "name": "stdout",
     "output_type": "stream",
     "text": [
      "[450.66 555.54 554.5 ]\n",
      "[450 555 554]\n"
     ]
    }
   ],
   "source": [
    "# Mudar o tipo do array :\n",
    "# Podemos transformar tipos de dados de arrays :\n",
    "\n",
    "mtnew = np.array([450.66,555.54,554.5])\n",
    "\n",
    "print(mtnew)\n",
    "\n",
    "# Transformando de float para Int :\n",
    "\n",
    "mtnewint = mtnew.astype(np.int32)\n",
    "\n",
    "print(mtnewint)\n"
   ]
  },
  {
   "cell_type": "code",
   "execution_count": 24,
   "id": "3de2c72b-2a94-4aef-9878-4078dccb757c",
   "metadata": {},
   "outputs": [
    {
     "name": "stdout",
     "output_type": "stream",
     "text": [
      "[ 1  5  8  9 10 50]\n",
      "[ 1.  5.  8.  9. 10. 50.]\n"
     ]
    }
   ],
   "source": [
    "# Transformando de Int para Float :\n",
    "\n",
    "mtInteiro = np.array([1,5,8,9,10,50])\n",
    "\n",
    "print(mtInteiro)\n",
    "\n",
    "mtnewInteiro = mtInteiro.astype(np.float64)\n",
    "\n",
    "print(mtnewInteiro)"
   ]
  },
  {
   "cell_type": "code",
   "execution_count": 30,
   "id": "43430c89-9329-4795-b049-fb06fa83dab1",
   "metadata": {},
   "outputs": [
    {
     "name": "stdout",
     "output_type": "stream",
     "text": [
      "[[  1   5   2  45]\n",
      " [  3   5   8   6]\n",
      " [  1 512 665  56]]\n"
     ]
    }
   ],
   "source": [
    "# Mais de uma dimensão:\n",
    "# Criando uma matriz bidimensional:\n",
    "\n",
    "mtBidimensional = np.array([[1,5,2,45],[3,5,8,6],[1,512,665,56]])\n",
    "\n",
    "print(mtBidimensional)\n"
   ]
  },
  {
   "cell_type": "code",
   "execution_count": 48,
   "id": "cb957c09-22e6-41b6-be26-dfb83d9fbc0f",
   "metadata": {},
   "outputs": [
    {
     "name": "stdout",
     "output_type": "stream",
     "text": [
      "[[0. 0. 0.]\n",
      " [0. 0. 0.]\n",
      " [0. 0. 0.]\n",
      " [0. 0. 0.]\n",
      " [0. 0. 0.]]\n",
      "-----------------\n",
      "[[0. 0. 0.]\n",
      " [0. 0. 0.]\n",
      " [0. 0. 0.]\n",
      " [0. 0. 0.]]\n",
      "-----------------\n",
      "[[1. 1. 1. 1. 1. 1. 1.]\n",
      " [1. 1. 1. 1. 1. 1. 1.]\n",
      " [1. 1. 1. 1. 1. 1. 1.]\n",
      " [1. 1. 1. 1. 1. 1. 1.]\n",
      " [1. 1. 1. 1. 1. 1. 1.]]\n",
      "-----------------\n",
      "[[1. 0. 0. 0. 0. 0. 0. 0. 0. 0.]\n",
      " [0. 1. 0. 0. 0. 0. 0. 0. 0. 0.]\n",
      " [0. 0. 1. 0. 0. 0. 0. 0. 0. 0.]\n",
      " [0. 0. 0. 1. 0. 0. 0. 0. 0. 0.]\n",
      " [0. 0. 0. 0. 1. 0. 0. 0. 0. 0.]\n",
      " [0. 0. 0. 0. 0. 1. 0. 0. 0. 0.]\n",
      " [0. 0. 0. 0. 0. 0. 1. 0. 0. 0.]\n",
      " [0. 0. 0. 0. 0. 0. 0. 1. 0. 0.]\n",
      " [0. 0. 0. 0. 0. 0. 0. 0. 1. 0.]\n",
      " [0. 0. 0. 0. 0. 0. 0. 0. 0. 1.]]\n"
     ]
    }
   ],
   "source": [
    "# Cria arrays vazios tipificados :\n",
    "\n",
    "# empty significa que não são inicializados, não que estão vazios\n",
    "\n",
    "vazio = np.empty([5,3], dtype = np.float64 )\n",
    "print(vazio)\n",
    "\n",
    "# Criar uma matriz 4x3 com valores 0 :\n",
    "print('-----------------')\n",
    "zeros = np.zeros([4,3])\n",
    "print(zeros)\n",
    "\n",
    "# Criar uma matriz com valores iguais a 1 :\n",
    "print('-----------------')\n",
    "um = np.ones([5,7])\n",
    "print(um)\n",
    "\n",
    "# Cria uma matriz quadrada com diagonal principal com valores 1 e os outros valores 0 :\n",
    "print('-----------------')\n",
    "diagonal = np.eye(5)\n",
    "print(diagonal)\n"
   ]
  },
  {
   "cell_type": "code",
   "execution_count": null,
   "id": "abbb5a01-ab50-42d5-a9a5-f39baf964c57",
   "metadata": {},
   "outputs": [],
   "source": []
  },
  {
   "cell_type": "code",
   "execution_count": null,
   "id": "6dadf1ac-c4a7-4bcb-b894-7267a51bd19f",
   "metadata": {},
   "outputs": [],
   "source": []
  },
  {
   "cell_type": "code",
   "execution_count": null,
   "id": "2adf7095-ce1c-4276-aaec-334c0cef6e6e",
   "metadata": {},
   "outputs": [],
   "source": []
  },
  {
   "cell_type": "code",
   "execution_count": null,
   "id": "09175868-d65e-4eb2-89f5-97a3ecd01ac6",
   "metadata": {},
   "outputs": [],
   "source": []
  },
  {
   "cell_type": "code",
   "execution_count": null,
   "id": "b2272ffe-29fa-4ad0-abf3-d2180bd4692e",
   "metadata": {},
   "outputs": [],
   "source": []
  },
  {
   "cell_type": "code",
   "execution_count": null,
   "id": "61a0f0a1-e314-4893-a8d8-33ec3987d955",
   "metadata": {},
   "outputs": [],
   "source": []
  },
  {
   "cell_type": "code",
   "execution_count": null,
   "id": "94625c24-cc59-4967-9b91-0cb0afa6fd39",
   "metadata": {},
   "outputs": [],
   "source": []
  },
  {
   "cell_type": "code",
   "execution_count": null,
   "id": "d40ffa91-ebce-4960-9956-a1bf3cd56f38",
   "metadata": {},
   "outputs": [],
   "source": []
  },
  {
   "cell_type": "code",
   "execution_count": null,
   "id": "2dd30c31-7232-4bfb-9a2d-97de56c6e65a",
   "metadata": {},
   "outputs": [],
   "source": []
  },
  {
   "cell_type": "code",
   "execution_count": null,
   "id": "cf634bcc-3cf1-469b-ada1-7207a06cc730",
   "metadata": {},
   "outputs": [],
   "source": []
  },
  {
   "cell_type": "code",
   "execution_count": null,
   "id": "a576f3cf-2f24-4723-9433-66b746771386",
   "metadata": {},
   "outputs": [],
   "source": []
  },
  {
   "cell_type": "code",
   "execution_count": null,
   "id": "75809abf-cd2b-4079-abac-3ec66580b4f2",
   "metadata": {},
   "outputs": [],
   "source": []
  },
  {
   "cell_type": "code",
   "execution_count": null,
   "id": "548c74ae-6a7f-4eed-bbf7-d57c4d72f928",
   "metadata": {},
   "outputs": [],
   "source": []
  }
 ],
 "metadata": {
  "kernelspec": {
   "display_name": "Python [conda env:base] *",
   "language": "python",
   "name": "conda-base-py"
  },
  "language_info": {
   "codemirror_mode": {
    "name": "ipython",
    "version": 3
   },
   "file_extension": ".py",
   "mimetype": "text/x-python",
   "name": "python",
   "nbconvert_exporter": "python",
   "pygments_lexer": "ipython3",
   "version": "3.12.7"
  }
 },
 "nbformat": 4,
 "nbformat_minor": 5
}
