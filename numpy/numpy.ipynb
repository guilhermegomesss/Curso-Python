{
 "cells": [
  {
   "cell_type": "markdown",
   "id": "dea4bf09-40b1-4dd2-a03f-e9227acf733d",
   "metadata": {},
   "source": [
    "**Numpy:**"
   ]
  },
  {
   "cell_type": "code",
   "execution_count": 1,
   "id": "e894ab61-b538-4da6-bc66-0b23b7c07734",
   "metadata": {},
   "outputs": [
    {
     "name": "stdout",
     "output_type": "stream",
     "text": [
      "[1 2 3 4 5 6]\n",
      "<class 'numpy.ndarray'>\n"
     ]
    }
   ],
   "source": [
    "# Importanto o numpy :\n",
    "\n",
    "import numpy as np\n",
    "\n",
    "# Criar uma matriz unidimensional:\n",
    "\n",
    "matriz = np.array([1,2,3,4,5,6])\n",
    "\n",
    "print(matriz)\n",
    "\n",
    "print(type(matriz))\n"
   ]
  },
  {
   "cell_type": "code",
   "execution_count": 11,
   "id": "4eb16c1f-d6bc-498e-8852-1cf438169704",
   "metadata": {},
   "outputs": [
    {
     "name": "stdout",
     "output_type": "stream",
     "text": [
      "[1. 2. 3.]\n",
      "<class 'numpy.ndarray'>\n",
      "[4 5 6 7 8]\n",
      "<class 'numpy.ndarray'>\n"
     ]
    }
   ],
   "source": [
    "# Criar um array como um tipo específico:\n",
    "\n",
    "# Criar um matriz com o tipo Float:\n",
    "\n",
    "mtFloat = np.array([1,2,3], dtype = np.float64)\n",
    "\n",
    "print(mtFloat)\n",
    "\n",
    "print(type(mtFloat))\n",
    "\n",
    "# Criar uma matriz com o tipo Inteiro:\n",
    "\n",
    "mtInteiro = np.array([4,5,6,7,8], dtype = np.int32)\n",
    "\n",
    "print(mtInteiro)\n",
    "\n",
    "print(type(mtInteiro))\n"
   ]
  },
  {
   "cell_type": "code",
   "execution_count": 14,
   "id": "ac80d33e-92c2-4ed7-ae1c-5a99de9a910f",
   "metadata": {},
   "outputs": [
    {
     "name": "stdout",
     "output_type": "stream",
     "text": [
      "[450.66 555.54 554.5 ]\n",
      "[450 555 554]\n"
     ]
    }
   ],
   "source": [
    "# Mudar o tipo do array :\n",
    "# Podemos transformar tipos de dados de arrays :\n",
    "\n",
    "mtnew = np.array([450.66,555.54,554.5])\n",
    "\n",
    "print(mtnew)\n",
    "\n",
    "# Transformando de float para Int :\n",
    "\n",
    "mtnewint = mtnew.astype(np.int32)\n",
    "\n",
    "print(mtnewint)\n"
   ]
  },
  {
   "cell_type": "code",
   "execution_count": 24,
   "id": "3de2c72b-2a94-4aef-9878-4078dccb757c",
   "metadata": {},
   "outputs": [
    {
     "name": "stdout",
     "output_type": "stream",
     "text": [
      "[ 1  5  8  9 10 50]\n",
      "[ 1.  5.  8.  9. 10. 50.]\n"
     ]
    }
   ],
   "source": [
    "# Transformando de Int para Float :\n",
    "\n",
    "mtInteiro = np.array([1,5,8,9,10,50])\n",
    "\n",
    "print(mtInteiro)\n",
    "\n",
    "mtnewInteiro = mtInteiro.astype(np.float64)\n",
    "\n",
    "print(mtnewInteiro)"
   ]
  },
  {
   "cell_type": "code",
   "execution_count": 30,
   "id": "43430c89-9329-4795-b049-fb06fa83dab1",
   "metadata": {},
   "outputs": [
    {
     "name": "stdout",
     "output_type": "stream",
     "text": [
      "[[  1   5   2  45]\n",
      " [  3   5   8   6]\n",
      " [  1 512 665  56]]\n"
     ]
    }
   ],
   "source": [
    "# Mais de uma dimensão:\n",
    "# Criando uma matriz bidimensional:\n",
    "\n",
    "mtBidimensional = np.array([[1,5,2,45],[3,5,8,6],[1,512,665,56]])\n",
    "\n",
    "print(mtBidimensional)\n"
   ]
  },
  {
   "cell_type": "code",
   "execution_count": 48,
   "id": "cb957c09-22e6-41b6-be26-dfb83d9fbc0f",
   "metadata": {},
   "outputs": [
    {
     "name": "stdout",
     "output_type": "stream",
     "text": [
      "[[0. 0. 0.]\n",
      " [0. 0. 0.]\n",
      " [0. 0. 0.]\n",
      " [0. 0. 0.]\n",
      " [0. 0. 0.]]\n",
      "-----------------\n",
      "[[0. 0. 0.]\n",
      " [0. 0. 0.]\n",
      " [0. 0. 0.]\n",
      " [0. 0. 0.]]\n",
      "-----------------\n",
      "[[1. 1. 1. 1. 1. 1. 1.]\n",
      " [1. 1. 1. 1. 1. 1. 1.]\n",
      " [1. 1. 1. 1. 1. 1. 1.]\n",
      " [1. 1. 1. 1. 1. 1. 1.]\n",
      " [1. 1. 1. 1. 1. 1. 1.]]\n",
      "-----------------\n",
      "[[1. 0. 0. 0. 0. 0. 0. 0. 0. 0.]\n",
      " [0. 1. 0. 0. 0. 0. 0. 0. 0. 0.]\n",
      " [0. 0. 1. 0. 0. 0. 0. 0. 0. 0.]\n",
      " [0. 0. 0. 1. 0. 0. 0. 0. 0. 0.]\n",
      " [0. 0. 0. 0. 1. 0. 0. 0. 0. 0.]\n",
      " [0. 0. 0. 0. 0. 1. 0. 0. 0. 0.]\n",
      " [0. 0. 0. 0. 0. 0. 1. 0. 0. 0.]\n",
      " [0. 0. 0. 0. 0. 0. 0. 1. 0. 0.]\n",
      " [0. 0. 0. 0. 0. 0. 0. 0. 1. 0.]\n",
      " [0. 0. 0. 0. 0. 0. 0. 0. 0. 1.]]\n"
     ]
    }
   ],
   "source": [
    "# Cria arrays vazios tipificados :\n",
    "\n",
    "# empty significa que não são inicializados, não que estão vazios\n",
    "\n",
    "vazio = np.empty([5,3], dtype = np.float64 )\n",
    "print(vazio)\n",
    "\n",
    "# Criar uma matriz 4x3 com valores 0 :\n",
    "print('-----------------')\n",
    "zeros = np.zeros([4,3])\n",
    "print(zeros)\n",
    "\n",
    "# Criar uma matriz com valores iguais a 1 :\n",
    "print('-----------------')\n",
    "um = np.ones([5,7])\n",
    "print(um)\n",
    "\n",
    "# Cria uma matriz quadrada com diagonal principal com valores 1 e os outros valores 0 :\n",
    "print('-----------------')\n",
    "diagonal = np.eye(5)\n",
    "print(diagonal)\n"
   ]
  },
  {
   "cell_type": "code",
   "execution_count": 12,
   "id": "f3e7afab-6e09-4fa7-8d64-15abdb1f5cbb",
   "metadata": {
    "scrolled": true
   },
   "outputs": [
    {
     "name": "stdout",
     "output_type": "stream",
     "text": [
      "[0.37596968 0.45964744 0.64792243 0.42199236 0.13310667]\n",
      "--------\n",
      "[-0.39540992 -0.34142748 -0.24944277 -0.45491007  3.43749001]\n",
      "-----------\n",
      "[[93.90669377 45.25897507  9.68939184]\n",
      " [27.76258579 24.67894368 40.58968795]\n",
      " [97.99097486 54.69438184 40.4080555 ]\n",
      " [92.47573812 22.23822953 41.43951727]]\n"
     ]
    }
   ],
   "source": [
    "# Importando o numpy :\n",
    "import numpy as np\n",
    "# Valores aleatórios entre 0 e 1 :\n",
    "aleatorio = np.random.random((5))\n",
    "print(aleatorio)\n",
    "\n",
    "print(\"--------\")\n",
    "# Números aleatórios negativos : \n",
    "aleatorio2 = np.random.randn((5))\n",
    "print(aleatorio2)\n",
    "\n",
    "print(\"-----------\")\n",
    "# Números aleatórios até 10 :\n",
    "aleatorio3 = (10*np.random.random((4,3)))\n",
    "print(aleatorio10)\n"
   ]
  },
  {
   "cell_type": "code",
   "execution_count": 44,
   "id": "abbb5a01-ab50-42d5-a9a5-f39baf964c57",
   "metadata": {},
   "outputs": [
    {
     "name": "stdout",
     "output_type": "stream",
     "text": [
      "[0.51182162 0.9504637  0.14415961]\n",
      "-------\n",
      "[[8 9 2 3]\n",
      " [8 4 2 8]\n",
      " [2 4 6 5]]\n"
     ]
    }
   ],
   "source": [
    "# Outra forma de gerar aleatórios \n",
    "# Uso de semente :\n",
    "# Com a semente, os números aleatórios seram os mesmos \n",
    "semente = np.random.default_rng(1) # Se eu colocar semente como (2) os números mudam\n",
    "aleatorio4 = semente.random((3))\n",
    "print(aleatorio4)\n",
    "\n",
    "# Gerar inteiros :\n",
    "print(\"-------\")\n",
    "aleatorio5 = semente.integers(10, size=(3,4))\n",
    "print(aleatorio5)\n"
   ]
  },
  {
   "cell_type": "code",
   "execution_count": 53,
   "id": "6dadf1ac-c4a7-4bcb-b894-7267a51bd19f",
   "metadata": {},
   "outputs": [
    {
     "name": "stdout",
     "output_type": "stream",
     "text": [
      "[1 2 3 5 6 9]\n",
      "<class 'numpy.ndarray'>\n"
     ]
    }
   ],
   "source": [
    "# Unique remove repetições :\n",
    "\n",
    "repeticoes = np.array([1,2,5,9,6,3,2,1,5,3,5,2,1])\n",
    "repeticoes = np.unique(repeticoes)\n",
    "\n",
    "print(repeticoes)"
   ]
  },
  {
   "cell_type": "code",
   "execution_count": 63,
   "id": "2adf7095-ce1c-4276-aaec-334c0cef6e6e",
   "metadata": {},
   "outputs": [
    {
     "name": "stdout",
     "output_type": "stream",
     "text": [
      "[[  0  25  20  20]\n",
      " [546   5  14   2]\n",
      " [ 58  85  55  66]]\n",
      "546\n",
      "(3, 4)\n"
     ]
    }
   ],
   "source": [
    "# Funções específicas :\n",
    "# Criar uma matriz bidimensional :\n",
    "\n",
    "bidimensional = np.array([[0,25,20,20],[546,5,14,2],[58,85,55,66]])\n",
    "# Mostrar a matriz :\n",
    "print(bidimensional)\n",
    "\n",
    "# Mostrar um elemento específico da matriz :\n",
    "print(bidimensional[1][0])\n",
    "\n",
    "# Mostrar o tamanho das dimensões da matriz :\n",
    "print(bidimensional.shape)\n"
   ]
  },
  {
   "cell_type": "code",
   "execution_count": 72,
   "id": "09175868-d65e-4eb2-89f5-97a3ecd01ac6",
   "metadata": {},
   "outputs": [
    {
     "name": "stdout",
     "output_type": "stream",
     "text": [
      "546\n",
      "0\n",
      "896\n",
      "74.66666666666667\n",
      "144.57831403391344\n"
     ]
    }
   ],
   "source": [
    "# Funções Matematicas :\n",
    "\n",
    "# Mostra o maior valor da matriz bidimensional :\n",
    "print(bidimensional.max())\n",
    "\n",
    "# Mostra o menor valor da matriz bidimensional :\n",
    "print(bidimensional.min())\n",
    "\n",
    "# Mostra a soma dos valores da matriz bidimensional :\n",
    "print(bidimensional.sum())\n",
    "\n",
    "# Mostra o valor da média dos valores da matriz bidimensional :\n",
    "print(bidimensional.mean())\n",
    "\n",
    "# Mostra o valor do desvio padrão (Standart Deviation )dos valores da matriz bidimensional :\n",
    "print(bidimensional.std())"
   ]
  },
  {
   "cell_type": "code",
   "execution_count": 79,
   "id": "b2272ffe-29fa-4ad0-abf3-d2180bd4692e",
   "metadata": {},
   "outputs": [
    {
     "name": "stdout",
     "output_type": "stream",
     "text": [
      "[1. 2. 3.]\n",
      "[2.71828183e+00 5.45981500e+01 8.10308393e+03]\n"
     ]
    }
   ],
   "source": [
    "# Funções universais aplicadas a todos os elementos :\n",
    "# Mostra o valor das raiz quadrada de todos os elementos :\n",
    "\n",
    "raizQuadrada = np.array([1,4,9])\n",
    "print(np.sqrt(raizQuadrada))\n",
    "\n",
    "# Mostrar o valor do exponencial de todos os elementos :\n",
    "print(np.exp(raizQuadrada))\n"
   ]
  },
  {
   "cell_type": "code",
   "execution_count": 85,
   "id": "61a0f0a1-e314-4893-a8d8-33ec3987d955",
   "metadata": {},
   "outputs": [
    {
     "name": "stdout",
     "output_type": "stream",
     "text": [
      "[  5   9   8 360   5]\n",
      "9\n",
      "[5 9]\n",
      "[  9   8 360   5]\n",
      "[  8 360   5]\n"
     ]
    }
   ],
   "source": [
    "# Extração de elementos :\n",
    "m = np.array([5,9,8,360,5])\n",
    "print(m)\n",
    "\n",
    "# Mostrar o elemento da posição 2 :\n",
    "print(m[1])\n",
    "\n",
    "# Mostrar os elemntos a partir da posição 0 a 2 :\n",
    "print(m[0:2])\n",
    "\n",
    "# Mostrar a partir da 2 posição até o restante do array :\n",
    "print(m[1:])\n",
    "\n",
    "# Mostrar o array criado a partir da antrepenultima posição até o final :\n",
    "\n",
    "print(m[-3:])\n",
    "# A última posição é -1 a penultima é -2 e a antepenultima é -3"
   ]
  },
  {
   "cell_type": "code",
   "execution_count": 96,
   "id": "94625c24-cc59-4967-9b91-0cb0afa6fd39",
   "metadata": {},
   "outputs": [
    {
     "name": "stdout",
     "output_type": "stream",
     "text": [
      "[[7 4]\n",
      " [8 5]\n",
      " [9 1]]\n",
      "-----------------------------\n",
      "[7 4]\n",
      "----------------------------\n",
      "[8 5]\n",
      "----------------------------\n",
      "[9 1]\n",
      "----------------------------\n",
      "[7 8 9]\n",
      "----------------------------\n",
      "[4 5 1]\n",
      "----------------------------\n"
     ]
    }
   ],
   "source": [
    "# Extração de linhas e colunas :\n",
    "i = np.array([[7,4],[8,5],[9,1]])\n",
    "print(i)\n",
    "print(\"-----------------------------\")\n",
    "# Primeira linha de todas as colunas :\n",
    "linha_um = i[0,:]\n",
    "print(linha_um)\n",
    "print(\"----------------------------\")\n",
    "\n",
    "# Segunda linha \n",
    "linha_dois = i[1, :]\n",
    "print(linha_dois)\n",
    "print(\"----------------------------\")\n",
    "# Terceira linha :\n",
    "linha_tres = i[2, :]\n",
    "print(linha_tres)\n",
    "print(\"----------------------------\")\n",
    "# Todas as linhas primeiro coluna :\n",
    "primeiraColuna = i[:,0]\n",
    "print(primeiraColuna)\n",
    "print(\"----------------------------\")\n",
    "\n",
    "# Todas as linhas segunda coluna :\n",
    "segundaColuna = i[:,1]\n",
    "print(segundaColuna)"
   ]
  },
  {
   "cell_type": "code",
   "execution_count": 108,
   "id": "d40ffa91-ebce-4960-9956-a1bf3cd56f38",
   "metadata": {},
   "outputs": [
    {
     "name": "stdout",
     "output_type": "stream",
     "text": [
      "[[1 2]\n",
      " [3 4]] [[1 2]\n",
      " [3 4]]\n",
      "------------\n",
      "[[2 4]\n",
      " [6 8]]\n",
      "------------\n",
      "[[ 1  4]\n",
      " [ 9 16]]\n",
      "------------\n",
      "[[1. 1.]\n",
      " [1. 1.]]\n",
      "------------\n",
      "[[0 0]\n",
      " [0 0]]\n",
      "------------\n",
      "[[2 4]\n",
      " [6 8]]\n",
      "------------\n",
      "[[ 1  4]\n",
      " [ 9 16]]\n",
      "------------\n",
      "[[1. 1.]\n",
      " [1. 1.]]\n",
      "------------\n",
      "[[0 0]\n",
      " [0 0]]\n"
     ]
    }
   ],
   "source": [
    "# Operações matematicas com matrizes :\n",
    "p = np.array([[1,2],[3,4]])\n",
    "m = np.array([[1,2],[3,4]])\n",
    "print(p,m)\n",
    "print(\"------------\")\n",
    "adicao = p + m\n",
    "print(adicao)\n",
    "print(\"------------\")\n",
    "multiplicacao = p * m\n",
    "print(multiplicacao)\n",
    "print(\"------------\")\n",
    "\n",
    "divisao = p / m\n",
    "print(divisao)\n",
    "print(\"------------\")\n",
    "\n",
    "subtracao = p - m\n",
    "print(subtracao)\n",
    "print(\"------------\")\n",
    "\n",
    "# Outra forma :\n",
    "print(p+m)\n",
    "print(\"------------\")\n",
    "print(p*m)\n",
    "print(\"------------\")\n",
    "print(p/m)\n",
    "print(\"------------\")\n",
    "print(p-m)\n"
   ]
  },
  {
   "cell_type": "code",
   "execution_count": 114,
   "id": "2dd30c31-7232-4bfb-9a2d-97de56c6e65a",
   "metadata": {},
   "outputs": [
    {
     "name": "stdout",
     "output_type": "stream",
     "text": [
      "[[ 0  1  2  3  4]\n",
      " [ 5  6  7  8  9]\n",
      " [10 11 12 13 14]]\n",
      "-----------------\n",
      "[[ 0  5 10]\n",
      " [ 1  6 11]\n",
      " [ 2  7 12]\n",
      " [ 3  8 13]\n",
      " [ 4  9 14]]\n"
     ]
    }
   ],
   "source": [
    "# Transposição rearranja um conjunto de 15 elementos  de 0 a 14 em 3 linhas e 5 colunas :\n",
    "f = np.arange(15).reshape((3,5))\n",
    "print(f)\n",
    "print(\"-----------------\")\n",
    "# Mostra a matriz transpostas entre linhas e colunas :\n",
    "s = f.T\n",
    "print(s)\n",
    "\n",
    "\n"
   ]
  },
  {
   "cell_type": "code",
   "execution_count": 116,
   "id": "cf634bcc-3cf1-469b-ada1-7207a06cc730",
   "metadata": {},
   "outputs": [
    {
     "name": "stdout",
     "output_type": "stream",
     "text": [
      "[[ 0  1  2  3  4]\n",
      " [ 5  6  7  8  9]\n",
      " [10 11 12 13 14]]\n",
      "-----------------------\n",
      "[[ 0  5 10]\n",
      " [ 1  6 11]\n",
      " [ 2  7 12]\n",
      " [ 3  8 13]\n",
      " [ 4  9 14]]\n"
     ]
    }
   ],
   "source": [
    "# Outra forma de fazer a mesma coisa :\n",
    "g = np.arange(15).reshape((3,5))\n",
    "print(g)\n",
    "print(\"-----------------------\")\n",
    "\n",
    "# Mostra a matriz transpostas entre linhas e colunas :\n",
    "v = g.transpose(1,0)\n",
    "print(v)"
   ]
  },
  {
   "cell_type": "code",
   "execution_count": 122,
   "id": "a576f3cf-2f24-4723-9433-66b746771386",
   "metadata": {},
   "outputs": [
    {
     "name": "stdout",
     "output_type": "stream",
     "text": [
      "[[ 1.0018424   1.82664008 -0.65939605 -0.26891481]\n",
      " [-0.83654664  0.80263173  0.34692365 -0.03573106]\n",
      " [ 1.39694796 -1.4192606   0.03269418  1.10698249]\n",
      " [ 0.94070228  1.13194391  1.21044696  0.38376149]]\n",
      "----------------------\n",
      "[[ True  True False False]\n",
      " [False  True  True False]\n",
      " [ True False  True  True]\n",
      " [ True  True  True  True]]\n",
      "----------------------\n",
      "[[ 1  1 -1 -1]\n",
      " [-1  1  1 -1]\n",
      " [ 1 -1  1  1]\n",
      " [ 1  1  1  1]]\n"
     ]
    }
   ],
   "source": [
    "# Expressões lógicas :\n",
    "# Usando where :\n",
    "# Criando matriz com valores aleatórios positivos e negativos :\n",
    "w = np.random.randn(4,4)\n",
    "print(w)\n",
    "print(\"----------------------\")\n",
    "\n",
    "# Criando matriz com valores booleanos baseados no array w :\n",
    "\n",
    "x = (w > 0 )\n",
    "print(x)\n",
    "print(\"----------------------\")\n",
    "\n",
    "\n",
    "# Criando matriz com valores -1 e 1 baseados nos valores do array w\n",
    "z = np.where(x > 0,1, -1)\n",
    "print(z)\n"
   ]
  }
 ],
 "metadata": {
  "kernelspec": {
   "display_name": "Python [conda env:base] *",
   "language": "python",
   "name": "conda-base-py"
  },
  "language_info": {
   "codemirror_mode": {
    "name": "ipython",
    "version": 3
   },
   "file_extension": ".py",
   "mimetype": "text/x-python",
   "name": "python",
   "nbconvert_exporter": "python",
   "pygments_lexer": "ipython3",
   "version": "3.12.7"
  }
 },
 "nbformat": 4,
 "nbformat_minor": 5
}
