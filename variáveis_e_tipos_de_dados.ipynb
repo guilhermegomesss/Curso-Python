{
  "nbformat": 4,
  "nbformat_minor": 0,
  "metadata": {
    "colab": {
      "provenance": [],
      "authorship_tag": "ABX9TyMbtQDUSdyM27bp4r/JoBK5",
      "include_colab_link": true
    },
    "kernelspec": {
      "name": "python3",
      "display_name": "Python 3"
    },
    "language_info": {
      "name": "python"
    }
  },
  "cells": [
    {
      "cell_type": "markdown",
      "metadata": {
        "id": "view-in-github",
        "colab_type": "text"
      },
      "source": [
        "<a href=\"https://colab.research.google.com/github/guilhermegomesss/Curso-Python/blob/main/vari%C3%A1veis_e_tipos_de_dados.ipynb\" target=\"_parent\"><img src=\"https://colab.research.google.com/assets/colab-badge.svg\" alt=\"Open In Colab\"/></a>"
      ]
    },
    {
      "cell_type": "markdown",
      "source": [
        "**Variáveis e tipos de dados :**"
      ],
      "metadata": {
        "id": "bguzxzCMZAqL"
      }
    },
    {
      "cell_type": "code",
      "execution_count": 11,
      "metadata": {
        "colab": {
          "base_uri": "https://localhost:8080/"
        },
        "id": "GcvS_a9ZUKu5",
        "outputId": "9e6d3a5f-28ee-4d78-b80d-ff3d4b202d8e"
      },
      "outputs": [
        {
          "output_type": "stream",
          "name": "stdout",
          "text": [
            "10\n",
            "<class 'int'>\n",
            "10.5\n",
            "<class 'float'>\n",
            "Jornada Dev\n",
            "<class 'str'>\n",
            "True\n",
            "<class 'bool'>\n",
            "False\n",
            "<class 'bool'>\n",
            "None\n",
            "<class 'NoneType'>\n"
          ]
        }
      ],
      "source": [
        "numero_inteiro = 10\n",
        "print(numero_inteiro)\n",
        "print(type(numero_inteiro))\n",
        "\n",
        "numero_decimal = 10.5\n",
        "print(numero_decimal)\n",
        "print(type(numero_decimal))\n",
        "\n",
        "\n",
        "textos = \"Jornada Dev\"\n",
        "print(textos)\n",
        "print(type(textos))\n",
        "\n",
        "\n",
        "tipo_logico_verdadeiro = True\n",
        "print(tipo_logico_verdadeiro)\n",
        "print(type(tipo_logico_verdadeiro))\n",
        "\n",
        "tipo_logico_falso = False\n",
        "print(tipo_logico_falso)\n",
        "print(type(tipo_logico_falso))\n",
        "\n",
        "tipo_vazio = None\n",
        "print(tipo_vazio)\n",
        "print(type(tipo_vazio))"
      ]
    },
    {
      "cell_type": "markdown",
      "source": [
        "**Tipo Númerico :**"
      ],
      "metadata": {
        "id": "RucA_KbWZIz7"
      }
    },
    {
      "cell_type": "code",
      "source": [
        "# Operações :\n",
        "\n",
        "# Adição :\n",
        "\n",
        "adicao = 5 + 5\n",
        "print(adicao)\n",
        "\n",
        "# Subtração :\n",
        "\n",
        "subtracao = 100 - 8\n",
        "print(subtracao)\n",
        "\n",
        "# Multiplicação :\n",
        "\n",
        "multiplicacao = 50 * 50\n",
        "print(multiplicacao)\n",
        "\n",
        "# Divisão :\n",
        "\n",
        "divisao = 50 / 2\n",
        "print(divisao)\n",
        "\n",
        "# Resto da divisão :\n",
        "\n",
        "resto_da_divisao = 20 % 8\n",
        "print(resto_da_divisao)\n",
        "\n",
        "# Divisão inteira :\n",
        "\n",
        "divisao_inteira = 50 // 3\n",
        "print(divisao_inteira)\n",
        "\n",
        "# Potência ou exponenciação :\n",
        "\n",
        "potencia = 50 ** 2\n",
        "print(potencia)"
      ],
      "metadata": {
        "colab": {
          "base_uri": "https://localhost:8080/"
        },
        "id": "LkOzs7Ycgq4L",
        "outputId": "45099e10-2888-4129-d4b2-776aacde1c05"
      },
      "execution_count": 40,
      "outputs": [
        {
          "output_type": "stream",
          "name": "stdout",
          "text": [
            "10\n",
            "92\n",
            "2500\n",
            "25.0\n",
            "4\n",
            "16\n",
            "2500\n"
          ]
        }
      ]
    },
    {
      "cell_type": "code",
      "source": [
        "# Conversão de tipo de tipos numéricos :\n",
        "\n",
        "# Convertendo de int para float :\n",
        "numero = 1\n",
        "print(numero)\n",
        "print(type(numero))\n",
        "numero = float(numero)\n",
        "print(numero)\n",
        "print(type(numero))\n",
        "\n",
        "\n",
        "# Convertendo de float para int :\n",
        "numero2 = 5.5\n",
        "print(numero2)\n",
        "print(type(numero2))\n",
        "numero2 = int(numero2)\n",
        "print(numero2)\n",
        "print(type(numero2))\n"
      ],
      "metadata": {
        "id": "RH_IqGc8WcN4",
        "colab": {
          "base_uri": "https://localhost:8080/"
        },
        "outputId": "a1fcf0ac-9a59-4bd7-ef49-63aad922037f"
      },
      "execution_count": 27,
      "outputs": [
        {
          "output_type": "stream",
          "name": "stdout",
          "text": [
            "1\n",
            "<class 'int'>\n",
            "1.0\n",
            "<class 'float'>\n",
            "5.5\n",
            "<class 'float'>\n",
            "5\n",
            "<class 'int'>\n"
          ]
        }
      ]
    },
    {
      "cell_type": "code",
      "source": [
        "# Operações para manipular uma variável numérica :\n",
        "\n",
        "valor_inicial = 0\n",
        "print(valor_inicial)\n",
        "\n",
        "valor_inicial +=1\n",
        "print(valor_inicial)\n",
        "\n",
        "valor_inicial += 1\n",
        "print(valor_inicial)\n",
        "\n",
        "valor_inicial -=1\n",
        "print(valor_inicial)"
      ],
      "metadata": {
        "colab": {
          "base_uri": "https://localhost:8080/"
        },
        "id": "ez7xldYYi7IB",
        "outputId": "1d239556-5ef8-47d6-9673-da9febdcc4c2"
      },
      "execution_count": 55,
      "outputs": [
        {
          "output_type": "stream",
          "name": "stdout",
          "text": [
            "0\n",
            "1\n",
            "2\n",
            "1\n"
          ]
        }
      ]
    },
    {
      "cell_type": "markdown",
      "source": [
        "**Exercício calculo do ticket médio :**\n",
        "\n",
        "\n",
        "Uma loja registrou as seguintes vendas nos últimos 3 dias:\n",
        "\n",
        "Dia 1: R$ 1.250,00 em 25 vendas\n",
        "\n",
        "Dia 2: R$ 980,00 em 20 vendas\n",
        "\n",
        "Dia 3: R$ 1.560,00 em 30 vendas\n",
        "\n",
        "Crie um programa em Python que:\n",
        "\n",
        "Armazene os valores de faturamento e número de vendas de cada dia.\n",
        "\n",
        "Calcule o ticket médio de cada dia (faturamento ÷ número de vendas).\n",
        "\n",
        "Calcule o ticket médio geral dos 3 dias juntos.\n"
      ],
      "metadata": {
        "id": "iotmgrA5lhOA"
      }
    },
    {
      "cell_type": "code",
      "source": [
        "# Exercício calculo do ticket médio :\n",
        "\n",
        "vendas_dia1 = 1250.00\n",
        "ticket_dia1 = vendas_dia1 / 25\n",
        "print(ticket_dia1)\n",
        "\n",
        "vendas_dia2 = 980.00\n",
        "ticket_dia2 = vendas_dia2 / 20\n",
        "print(ticket_dia2)\n",
        "\n",
        "vendas_dia3 = 1560.00\n",
        "ticket_dia3 = vendas_dia3 / 30\n",
        "print(ticket_dia3);\n",
        "\n",
        "calculo_do_ticket_medio = (ticket_dia1 + ticket_dia2 + ticket_dia3 ) / 3;\n",
        "\n",
        "print(round(calculo_do_ticket_medio,2)); # Utilizei o round 2 para aparecer somente 2 casas decimais após o .\n"
      ],
      "metadata": {
        "colab": {
          "base_uri": "https://localhost:8080/"
        },
        "id": "ATQrQTAVlicQ",
        "outputId": "5ee3f4c6-4115-42b7-b559-8b0ea6381360"
      },
      "execution_count": 50,
      "outputs": [
        {
          "output_type": "stream",
          "name": "stdout",
          "text": [
            "50.0\n",
            "49.0\n",
            "52.0\n",
            "50.33\n"
          ]
        }
      ]
    },
    {
      "cell_type": "markdown",
      "source": [
        "**Strings :**"
      ],
      "metadata": {
        "id": "ulzEUqkuq0YO"
      }
    },
    {
      "cell_type": "code",
      "source": [
        "# Operações com strings :\n",
        "\n",
        "# Concatenação :\n",
        "\n",
        "valor1 = \"Abril\"\n",
        "valor2 = \"Maio\"\n",
        "print(\"Concatenando 2 Variáveis do tipo String \" + valor1 + valor2)\n",
        "\n",
        "valor3 = valor1 + valor2\n",
        "print(valor3)\n",
        "\n",
        "# formatação :\n",
        "\n",
        "nome = \"Guilherme\"\n",
        "sobrenome = \"Augusto\"\n",
        "print(f\"O meu nome é {nome} e o meu sobrenome é {sobrenome}\")"
      ],
      "metadata": {
        "colab": {
          "base_uri": "https://localhost:8080/"
        },
        "id": "mobdT5DVq9YX",
        "outputId": "d44b757a-1179-45e7-fd5f-20f96b02b3bd"
      },
      "execution_count": 20,
      "outputs": [
        {
          "output_type": "stream",
          "name": "stdout",
          "text": [
            "Concatenando 2 Variáveis do tipo String AbrilMaio\n",
            "AbrilMaio\n",
            "O meu nome é Guilherme e o meu sobrenome é Augusto\n"
          ]
        }
      ]
    },
    {
      "cell_type": "code",
      "source": [
        "# Fatiamento :\n",
        "\n",
        "# Fatiamento fixo :\n",
        "nome1 = \"Guilherme\"\n",
        "\n",
        "print(nome1[0])\n",
        "\n",
        "# Fatiamento por intervalo :\n",
        "\n",
        "sobrenome2 = \"Augusto\"\n",
        "print(sobrenome2[0:5]) # Como foi até o indice 5 sempre vai ser ele -1 que vai imprimir na tela...\n"
      ],
      "metadata": {
        "colab": {
          "base_uri": "https://localhost:8080/"
        },
        "id": "CpBNVSgr6rNX",
        "outputId": "49adbbd5-506b-48b9-b45f-8965ecf8b172"
      },
      "execution_count": 22,
      "outputs": [
        {
          "output_type": "stream",
          "name": "stdout",
          "text": [
            "G\n",
            "Augus\n"
          ]
        }
      ]
    },
    {
      "cell_type": "code",
      "source": [
        "# Métodos :\n",
        "\n",
        "# Upper : Usado para transformar os caracteres de uma variável do tipo strig para maiúsculo :\n",
        "\n",
        "aniversario = \"oi, hoje é o meu aniversário\"\n",
        "print(aniversario)\n",
        "print(aniversario.upper())\n",
        "\n",
        "# Lower : Ao contrário do método upper o lower é usado para deixar o texto de uma string em minúsculo :\n",
        "\n",
        "apresentacao = \" Oi, essa é a minha Breve Apresentação\";\n",
        "print(apresentacao)\n",
        "print(apresentacao.lower())\n",
        "\n",
        "# Find : É usado para encontrar um texto dentro de uma string :\n",
        "\n",
        "hoje = \"hoje estou muito feliz\";\n",
        "print(hoje.find(\"feliz\")) # Me retornou em qual índice está o texto...\n",
        "print(hoje.find(\"gui\")) # Vai me retornar -1 porque não possui oi dentro da variável....\n",
        "\n",
        "# Replace : O replace é usado para substituir um texto dentro de uma variável :\n",
        "\n",
        "minha_apresentacao = \"Oi, me chamo Guilherme e sou dev \"\n",
        "print(minha_apresentacao)\n",
        "print(minha_apresentacao.replace(\"dev\", \"desenvolvedor\"))\n",
        "\n",
        "\n"
      ],
      "metadata": {
        "colab": {
          "base_uri": "https://localhost:8080/"
        },
        "id": "Zkp8E_lN7VCH",
        "outputId": "d63a872c-4d86-4f2c-dba9-487203b411d2"
      },
      "execution_count": 30,
      "outputs": [
        {
          "output_type": "stream",
          "name": "stdout",
          "text": [
            "oi, hoje é o meu aniversário\n",
            "OI, HOJE É O MEU ANIVERSÁRIO\n",
            " Oi, essa é a minha Breve Apresentação\n",
            " oi, essa é a minha breve apresentação\n",
            "17\n",
            "-1\n",
            "Oi, me chamo Guilherme e sou dev \n",
            "Oi, me chamo Guilherme e sou desenvolvedor \n"
          ]
        }
      ]
    },
    {
      "cell_type": "code",
      "source": [
        "# Conversão :\n",
        "\n",
        "# Convertendo de String para Int :\n",
        "\n",
        "num1 = \"123456\"\n",
        "print(type(num1))\n",
        "print(int(num1))\n",
        "\n",
        "num2 = int(num1)\n",
        "print(num2)\n",
        "print(type(num2))\n",
        "\n",
        "\n",
        "# String para Float :\n",
        "\n",
        "\n",
        "numero1 = \"123.55\"\n",
        "print(type(numero1))\n",
        "print(float(numero1))\n",
        "\n",
        "numero2 = float(numero1)\n",
        "print(numero2)\n",
        "print(type(numero2))\n",
        "\n",
        "\n",
        "\n",
        "# Int para String :\n",
        "\n",
        "numero = 1050\n",
        "print(type(numero))\n",
        "print(str(numero))\n",
        "\n",
        "numero2 = str(numero)\n",
        "print(type(numero2))\n",
        "print(numero2)\n",
        "\n",
        "# Float para string\n",
        "\n",
        "numero = 10.50\n",
        "print(type(numero))\n",
        "\n",
        "numero2 = str(numero)\n",
        "print(numero2)\n",
        "print(type(numero2))\n",
        "\n"
      ],
      "metadata": {
        "colab": {
          "base_uri": "https://localhost:8080/"
        },
        "id": "koy9FCdu9M3V",
        "outputId": "5114ac64-5440-49d9-e9c3-f009ef39417c"
      },
      "execution_count": 40,
      "outputs": [
        {
          "output_type": "stream",
          "name": "stdout",
          "text": [
            "<class 'str'>\n",
            "123456\n",
            "123456\n",
            "<class 'int'>\n",
            "<class 'str'>\n",
            "123.55\n",
            "123.55\n",
            "<class 'float'>\n",
            "<class 'int'>\n",
            "1050\n",
            "<class 'str'>\n",
            "1050\n",
            "<class 'float'>\n",
            "10.5\n",
            "<class 'str'>\n"
          ]
        }
      ]
    },
    {
      "cell_type": "markdown",
      "source": [],
      "metadata": {
        "id": "Ihd8h8NmABXt"
      }
    },
    {
      "cell_type": "code",
      "source": [
        "\n",
        "latlon = '20503051.44;5152102015.55'\n",
        "\n",
        "print(latlon.find(\";\"))\n",
        "\n",
        "latitude = latlon[0:11]\n",
        "print(f\"A latitude é : {latitude}\")\n",
        "\n",
        "print(len(latlon))\n",
        "\n",
        "longitude = latlon[12:25]\n",
        "print(f\"A longitude é de : {longitude}\")\n",
        "\n",
        "\n"
      ],
      "metadata": {
        "colab": {
          "base_uri": "https://localhost:8080/"
        },
        "id": "6gj7OHI8q2g2",
        "outputId": "b125cc03-9d50-4fc1-f021-7f70d6db4f5b"
      },
      "execution_count": 10,
      "outputs": [
        {
          "output_type": "stream",
          "name": "stdout",
          "text": [
            "11\n",
            "A latitude é : 20503051.44\n",
            "25\n",
            "A longitude é de : 5152102015.55\n"
          ]
        }
      ]
    },
    {
      "cell_type": "markdown",
      "source": [
        "**Booleans :**"
      ],
      "metadata": {
        "id": "PmqohDWZq-EN"
      }
    },
    {
      "cell_type": "code",
      "source": [
        "# Operadores de comparação :\n",
        "\n",
        "# > maior que\n",
        "# < menor que\n",
        "# == igual\n",
        "# != diferente\n",
        "# > maior igual\n",
        "# < menor igual\n",
        "\n",
        "calculo = 10 > 5\n",
        "print(calculo)\n",
        "\n",
        "calculo2 = 10 < 5\n",
        "print(calculo2)\n",
        "\n",
        "calculo3 = 10 == 5\n",
        "print(calculo3)\n",
        "\n",
        "calculo4 = 10 != 5\n",
        "print(calculo4)\n",
        "\n",
        "calculo5 = 10 >= 5\n",
        "print(calculo5)\n",
        "\n",
        "calculo6 = 10 <= 5\n",
        "print(calculo6)\n"
      ],
      "metadata": {
        "colab": {
          "base_uri": "https://localhost:8080/"
        },
        "id": "qqfWdpEhrDPn",
        "outputId": "34ca9901-45fe-45f3-ad81-00e042be7ee1"
      },
      "execution_count": 48,
      "outputs": [
        {
          "output_type": "stream",
          "name": "stdout",
          "text": [
            "True\n",
            "False\n",
            "False\n",
            "True\n",
            "True\n",
            "False\n"
          ]
        }
      ]
    },
    {
      "cell_type": "code",
      "source": [
        "# Operações :\n",
        "\n",
        "# | ou or\n",
        "# & e and\n",
        "# not não\n",
        "\n",
        "operacoes = 10 > 5 or 10 == 5\n",
        "print(operacoes)\n",
        "\n",
        "operacoes2 = 10 > 5 and 10 == 5\n",
        "print(operacoes2)\n",
        "\n",
        "operacoes3 = not 10 > 5\n",
        "print(operacoes3)\n",
        "\n"
      ],
      "metadata": {
        "colab": {
          "base_uri": "https://localhost:8080/"
        },
        "id": "foput7dzDV1u",
        "outputId": "d7162326-271e-4d6e-bc94-6622f1dc8bce"
      },
      "execution_count": 56,
      "outputs": [
        {
          "output_type": "stream",
          "name": "stdout",
          "text": [
            "True\n",
            "False\n",
            "False\n"
          ]
        }
      ]
    }
  ]
}