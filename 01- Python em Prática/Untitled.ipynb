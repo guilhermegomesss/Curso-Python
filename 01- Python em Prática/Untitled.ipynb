{
 "cells": [
  {
   "cell_type": "markdown",
   "id": "f0ac3d42-7cef-4601-94f0-c834f62b155c",
   "metadata": {},
   "source": [
    "**Variaveis e Objetos:**"
   ]
  },
  {
   "cell_type": "code",
   "execution_count": null,
   "id": "7f88d1da-2b4a-4300-9b5e-aaf30a416fd0",
   "metadata": {},
   "outputs": [],
   "source": []
  },
  {
   "cell_type": "code",
   "execution_count": null,
   "id": "9e369ce6-74fe-488b-8733-95e103f97979",
   "metadata": {},
   "outputs": [],
   "source": []
  },
  {
   "cell_type": "code",
   "execution_count": null,
   "id": "db36038e-66b8-48ba-9087-356ad53f4915",
   "metadata": {},
   "outputs": [],
   "source": []
  },
  {
   "cell_type": "code",
   "execution_count": null,
   "id": "52617867-a458-4a48-ae31-20ec183c2b2c",
   "metadata": {},
   "outputs": [],
   "source": []
  },
  {
   "cell_type": "code",
   "execution_count": null,
   "id": "23c18b47-5669-4db1-bae4-8d747f239a7d",
   "metadata": {},
   "outputs": [],
   "source": []
  },
  {
   "cell_type": "code",
   "execution_count": null,
   "id": "8b4abf51-0728-4bdb-8f4d-870a5c7369ca",
   "metadata": {},
   "outputs": [],
   "source": []
  },
  {
   "cell_type": "code",
   "execution_count": null,
   "id": "5aee03af-23bc-443e-be92-8f23f7b387e5",
   "metadata": {},
   "outputs": [],
   "source": []
  }
 ],
 "metadata": {
  "kernelspec": {
   "display_name": "Python [conda env:base] *",
   "language": "python",
   "name": "conda-base-py"
  },
  "language_info": {
   "codemirror_mode": {
    "name": "ipython",
    "version": 3
   },
   "file_extension": ".py",
   "mimetype": "text/x-python",
   "name": "python",
   "nbconvert_exporter": "python",
   "pygments_lexer": "ipython3",
   "version": "3.12.7"
  }
 },
 "nbformat": 4,
 "nbformat_minor": 5
}
