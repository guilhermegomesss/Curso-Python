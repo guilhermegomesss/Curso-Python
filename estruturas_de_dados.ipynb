{
  "nbformat": 4,
  "nbformat_minor": 0,
  "metadata": {
    "colab": {
      "provenance": [],
      "authorship_tag": "ABX9TyO4Q86b2I+6U8D0fQujs91d",
      "include_colab_link": true
    },
    "kernelspec": {
      "name": "python3",
      "display_name": "Python 3"
    },
    "language_info": {
      "name": "python"
    }
  },
  "cells": [
    {
      "cell_type": "markdown",
      "metadata": {
        "id": "view-in-github",
        "colab_type": "text"
      },
      "source": [
        "<a href=\"https://colab.research.google.com/github/guilhermegomesss/Curso-Python/blob/main/estruturas_de_dados.ipynb\" target=\"_parent\"><img src=\"https://colab.research.google.com/assets/colab-badge.svg\" alt=\"Open In Colab\"/></a>"
      ]
    },
    {
      "cell_type": "markdown",
      "source": [
        "**Estruturas de dados são formas de armazenar dados e variáveis**\n",
        "\n",
        "**Listas :** Sequência mutável e ordenada de valores. É como se fosse\n",
        "uma variável composta por outras variáveis.."
      ],
      "metadata": {
        "id": "vv-eRRC5h0CO"
      }
    },
    {
      "cell_type": "code",
      "execution_count": 9,
      "metadata": {
        "colab": {
          "base_uri": "https://localhost:8080/"
        },
        "id": "pKz-GBYVhvFI",
        "outputId": "2868efae-2122-4ab1-85e0-2f5c3b3514c7"
      },
      "outputs": [
        {
          "output_type": "stream",
          "name": "stdout",
          "text": [
            "['macbook', 'iphone', 'apple watch', 'galaxy', 'galaxy watch', 'galaxy tab']\n",
            "Os aparelhos da sansung são ['galaxy', 'galaxy watch', 'galaxy tab']\n"
          ]
        }
      ],
      "source": [
        "# Concatenação de listas :\n",
        "\n",
        "apple = ['macbook','iphone','apple watch']\n",
        "samsung = ['galaxy', 'galaxy watch', 'galaxy tab']\n",
        "\n",
        "apple_samsung = apple + samsung\n",
        "print(apple_samsung)\n",
        "\n",
        "# Não pode concatenar Strings com Listas : para dar certo ou você transforma a lista em string ou transforma a string em lista\n",
        "print(\"Os aparelhos da sansung são \"+ str(samsung))"
      ]
    },
    {
      "cell_type": "code",
      "source": [
        "# Slicing com listas :\n",
        "\n",
        "lista = [1,2,3,4,5,6,7,8,9,10,11,12,13,14,15,16,17,18,19,20]\n",
        "\n",
        "print(lista[0:10])"
      ],
      "metadata": {
        "colab": {
          "base_uri": "https://localhost:8080/"
        },
        "id": "JZahPnlFiAnd",
        "outputId": "de9e8401-e50e-4368-ad7e-6db2c9c5d29c"
      },
      "execution_count": 5,
      "outputs": [
        {
          "output_type": "stream",
          "name": "stdout",
          "text": [
            "[1, 2, 3, 4, 5, 6, 7, 8, 9, 10]\n"
          ]
        }
      ]
    },
    {
      "cell_type": "code",
      "source": [
        "# Alterar um elemento específico da lista :\n",
        "\n",
        "verdadeiro = True\n",
        "\n",
        "# Podemos ter vários tipos de dados presentes em uma lista :\n",
        "\n",
        "lista = [1.5,11.2,15,14,'Jornada dev', verdadeiro]\n",
        "print(lista)\n",
        "\n",
        "# Alterar um elemento específico da lista :\n",
        "\n",
        "lista[2] = 10\n",
        "print(lista)"
      ],
      "metadata": {
        "colab": {
          "base_uri": "https://localhost:8080/"
        },
        "id": "HwsGmaXknohk",
        "outputId": "29f56084-8b39-41fb-c319-cedebe8eb603"
      },
      "execution_count": 11,
      "outputs": [
        {
          "output_type": "stream",
          "name": "stdout",
          "text": [
            "[1.5, 11.2, 15, 14, 'Jornada dev', True]\n",
            "[1.5, 11.2, 10, 14, 'Jornada dev', True]\n"
          ]
        }
      ]
    },
    {
      "cell_type": "code",
      "source": [
        "# Métodos :\n",
        "\n",
        "# Insert : Adiciona um elemento a lista sem substituir nenhum..\n",
        "\n",
        "lista = [1,2,3,4,5,6,7,8,9,10]\n",
        "print(lista)\n",
        "lista.insert(0,2) # Eu adicionei na posição 0 o 2\n",
        "print(lista)\n",
        "\n",
        "# Append : Permite que agente adiciona elementos no final da lista..\n",
        "\n",
        "lista.append(\"oi\")\n",
        "print(lista)\n",
        "\n",
        "\n",
        "# Remove : Remove valores específicos na lista..\n",
        "print(lista)\n",
        "lista.remove(\"oi\")\n",
        "print(lista)\n",
        "\n",
        "# Pop : Remove o elemento na posição que agente definir na lista..\n",
        "print(lista)\n",
        "lista.pop(0)\n",
        "print(lista)"
      ],
      "metadata": {
        "colab": {
          "base_uri": "https://localhost:8080/"
        },
        "id": "sHF5yMD7iLkd",
        "outputId": "2a9f9695-0282-4c7b-c10b-4fa98ef50fd4"
      },
      "execution_count": 22,
      "outputs": [
        {
          "output_type": "stream",
          "name": "stdout",
          "text": [
            "[1, 2, 3, 4, 5, 6, 7, 8, 9, 10]\n",
            "[2, 1, 2, 3, 4, 5, 6, 7, 8, 9, 10]\n",
            "[2, 1, 2, 3, 4, 5, 6, 7, 8, 9, 10, 'oi']\n",
            "[2, 1, 2, 3, 4, 5, 6, 7, 8, 9, 10, 'oi']\n",
            "[2, 1, 2, 3, 4, 5, 6, 7, 8, 9, 10]\n",
            "[2, 1, 2, 3, 4, 5, 6, 7, 8, 9, 10]\n",
            "[1, 2, 3, 4, 5, 6, 7, 8, 9, 10]\n"
          ]
        }
      ]
    },
    {
      "cell_type": "markdown",
      "source": [
        "**Conjuntos - Set :** É uma sequência imutável desordenada de valores sem repetição.."
      ],
      "metadata": {
        "id": "4NITKeSRiIZ1"
      }
    },
    {
      "cell_type": "code",
      "source": [
        "# Sem repetição :\n",
        "conjunto = {1,2,3,4,5,5,4,3,2,1}\n",
        "print(conjunto)"
      ],
      "metadata": {
        "colab": {
          "base_uri": "https://localhost:8080/"
        },
        "id": "38qU2r55iAwk",
        "outputId": "a7122694-b0cb-44c4-a14b-13a2e9e5b10e"
      },
      "execution_count": 23,
      "outputs": [
        {
          "output_type": "stream",
          "name": "stdout",
          "text": [
            "{1, 2, 3, 4, 5}\n"
          ]
        }
      ]
    },
    {
      "cell_type": "code",
      "source": [
        "# Operaçõoes :\n",
        "\n",
        "paises = {\"Brasil\", \"Argentina\", \"Russia\"}\n",
        "paises_sulamericanos = {\"Brasil\", \"Argentina\"}\n",
        "\n",
        "\n",
        "paises_ordenados = paises - paises_sulamericanos\n",
        "print(paises_ordenados)\n",
        "\n",
        "paises_desordenados = paises_sulamericanos - paises\n",
        "print(paises_desordenados)"
      ],
      "metadata": {
        "colab": {
          "base_uri": "https://localhost:8080/"
        },
        "id": "sId-P222ub4J",
        "outputId": "67d3601f-4565-44da-e91c-6d36eb0f06de"
      },
      "execution_count": 25,
      "outputs": [
        {
          "output_type": "stream",
          "name": "stdout",
          "text": [
            "{'Russia'}\n",
            "set()\n"
          ]
        }
      ]
    },
    {
      "cell_type": "code",
      "source": [
        "# Conversão :\n",
        "\n",
        "# Transformando de list para set :\n",
        "\n",
        "lista = [1,2,3,4,5,6,6,5,4,3,2,1]\n",
        "print(lista)\n",
        "print(type(lista))\n",
        "\n",
        "print(set(lista))\n",
        "print(type(set(lista)))\n",
        "\n",
        "\n",
        "# Transformando de set para lista :\n",
        "\n",
        "conjunto = {1,2,3,4,5,6}\n",
        "print(conjunto)\n",
        "print(type(conjunto))\n",
        "\n",
        "print(list(conjunto))\n",
        "print(type(list(conjunto)))"
      ],
      "metadata": {
        "colab": {
          "base_uri": "https://localhost:8080/"
        },
        "id": "KXGi6hBAvUy5",
        "outputId": "d67d906d-5277-4e49-8e67-2b034e813696"
      },
      "execution_count": 29,
      "outputs": [
        {
          "output_type": "stream",
          "name": "stdout",
          "text": [
            "[1, 2, 3, 4, 5, 6, 6, 5, 4, 3, 2, 1]\n",
            "<class 'list'>\n",
            "{1, 2, 3, 4, 5, 6}\n",
            "<class 'set'>\n",
            "<class 'set'>\n",
            "[1, 2, 3, 4, 5, 6]\n",
            "<class 'list'>\n"
          ]
        }
      ]
    },
    {
      "cell_type": "code",
      "source": [
        "# Métodos :\n",
        "# add : Usado para adicionar um item ao set (conjunto)\n",
        "\n",
        "conjunto = {1,2,3,4,5,6}\n",
        "print(conjunto)\n",
        "\n",
        "conjunto.add(7)\n",
        "print(conjunto)\n",
        "\n",
        "\n",
        "# Remove : É usado para remover um item do set (conjunto)\n",
        "\n",
        "conjunto = {\"oi\",1}\n",
        "print(conjunto)\n",
        "\n",
        "conjunto.remove(\"oi\")\n",
        "print(conjunto)"
      ],
      "metadata": {
        "colab": {
          "base_uri": "https://localhost:8080/"
        },
        "id": "h9c95j6EwEtA",
        "outputId": "88c49b65-e294-4d41-936d-2d3fb15de1dc"
      },
      "execution_count": 35,
      "outputs": [
        {
          "output_type": "stream",
          "name": "stdout",
          "text": [
            "{1, 2, 3, 4, 5, 6}\n",
            "{1, 2, 3, 4, 5, 6, 7}\n",
            "{1, 'oi'}\n",
            "{1}\n"
          ]
        }
      ]
    },
    {
      "cell_type": "markdown",
      "source": [
        "**Dicionários :** Armazenam dados no formato de chave e valor, são mutáveis.."
      ],
      "metadata": {
        "id": "aoFSkxGjiA_e"
      }
    },
    {
      "cell_type": "code",
      "source": [
        "# Criando um dicionário :\n",
        "\n",
        "dicionario = {'chave1': 1,\n",
        "              'chave2': 2,\n",
        "              'chave3': 3\n",
        "              }\n",
        "print(dicionario)\n",
        "print(type(dicionario))\n",
        "\n",
        "# Criando um dicionário composto :\n",
        "carro = {\n",
        "    'modelo': {\n",
        "    'ano': 2020,\n",
        "    'cor': 'preto',\n",
        "    },\n",
        "    'motor' : {\n",
        "      'cavalos' : \"110\",\n",
        "    },\n",
        "}\n",
        "\n",
        "# Acessando valores desse dicionário :\n",
        "carro['modelo']['ano']"
      ],
      "metadata": {
        "colab": {
          "base_uri": "https://localhost:8080/"
        },
        "id": "xQgQYeXtiDjl",
        "outputId": "d3971ed3-c86b-41fa-a17b-f267b22c6c06"
      },
      "execution_count": 42,
      "outputs": [
        {
          "output_type": "stream",
          "name": "stdout",
          "text": [
            "{'chave1': 1, 'chave2': 2, 'chave3': 3}\n",
            "<class 'dict'>\n"
          ]
        },
        {
          "output_type": "execute_result",
          "data": {
            "text/plain": [
              "2020"
            ]
          },
          "metadata": {},
          "execution_count": 42
        }
      ]
    },
    {
      "cell_type": "code",
      "source": [
        "# Métodos :\n",
        "\n",
        "# Update : Usado para reatribuir um valor a um dicionário baseado na sua chave ou valor :\n",
        "\n",
        "metodos = {\n",
        "    'ano': 2025,\n",
        "    'idade': 18,\n",
        "}\n",
        "\n",
        "metodos.update({'ano': 2020})\n",
        "\n",
        "print(metodos)\n",
        "\n",
        "# Pop : Usado para excluir um elemento :\n",
        "metodos.pop('idade')\n",
        "print(metodos)"
      ],
      "metadata": {
        "colab": {
          "base_uri": "https://localhost:8080/"
        },
        "id": "6f9uTShWxBeR",
        "outputId": "43bfa6e1-9aad-48c7-a9f3-5fe808afc3fc"
      },
      "execution_count": 47,
      "outputs": [
        {
          "output_type": "stream",
          "name": "stdout",
          "text": [
            "{'ano': 2020, 'idade': 18}\n",
            "{'ano': 2020}\n"
          ]
        }
      ]
    },
    {
      "cell_type": "code",
      "source": [
        "# Conversão :\n",
        "\n",
        "# Não podemos converter de listas para dicionários mais podemos converter de dicionarios para listas :\n",
        "\n",
        "dicionario = {'chave' : 1, 'chave2' : 2}\n",
        "print(dicionario)\n",
        "print(type(dicionario))\n",
        "\n",
        "# Extraindo as chaves :\n",
        "print(list(dicionario.keys()))\n",
        "print(type(list(dicionario.keys())))\n",
        "\n",
        "# Extraindo dos valores :\n",
        "print(list(dicionario.values()))\n",
        "print(type(list(dicionario.values())))\n",
        "\n"
      ],
      "metadata": {
        "colab": {
          "base_uri": "https://localhost:8080/"
        },
        "id": "xa5xhARF49d-",
        "outputId": "9050db8f-b62d-4eda-e62a-04fc3998e7d3"
      },
      "execution_count": 52,
      "outputs": [
        {
          "output_type": "stream",
          "name": "stdout",
          "text": [
            "{'chave': 1, 'chave2': 2}\n",
            "<class 'dict'>\n",
            "['chave', 'chave2']\n",
            "<class 'list'>\n",
            "[1, 2]\n",
            "<class 'list'>\n"
          ]
        }
      ]
    }
  ]
}